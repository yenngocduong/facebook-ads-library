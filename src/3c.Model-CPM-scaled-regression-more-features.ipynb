{
 "cells": [
  {
   "cell_type": "markdown",
   "metadata": {},
   "source": [
    "### This notebook perform modelling with CPM-scaled = log(spend)/log(impressions)"
   ]
  },
  {
   "cell_type": "code",
   "execution_count": 1,
   "metadata": {},
   "outputs": [
    {
     "data": {
      "text/plain": [
       "<module 'utils' from 'Y:\\\\Internship\\\\SoMin\\\\Notebook\\\\src\\\\utils.py'>"
      ]
     },
     "execution_count": 1,
     "metadata": {},
     "output_type": "execute_result"
    }
   ],
   "source": [
    "import os\n",
    "import pandas as pd\n",
    "import numpy as np\n",
    "import cv2\n",
    "import matplotlib.pyplot as plt\n",
    "import matplotlib.image as mpimg\n",
    "from utils import load_pickle, save_pickle\n",
    "from datetime import datetime, timedelta\n",
    "import cleaning, utils\n",
    "from scipy import stats\n",
    "import seaborn as sb\n",
    "from xgboost import XGBClassifier, XGBRegressor\n",
    "from sklearn.linear_model import LinearRegression\n",
    "from sklearn.preprocessing import OneHotEncoder, LabelBinarizer\n",
    "from sklearn.ensemble import RandomForestClassifier\n",
    "from lightgbm import LGBMClassifier\n",
    "from sklearn.metrics import classification_report, accuracy_score, roc_auc_score, mean_squared_error\n",
    "from sklearn.metrics import make_scorer, f1_score, matthews_corrcoef, balanced_accuracy_score, accuracy_score\n",
    "from sklearn.model_selection import train_test_split, cross_validate\n",
    "import importlib\n",
    "\n",
    "importlib.reload(utils)"
   ]
  },
  {
   "cell_type": "code",
   "execution_count": 2,
   "metadata": {},
   "outputs": [
    {
     "data": {
      "text/plain": [
       "(30966, 47)"
      ]
     },
     "execution_count": 2,
     "metadata": {},
     "output_type": "execute_result"
    }
   ],
   "source": [
    "df = pd.read_csv('Y:/Internship/SoMin/data/df_cpm_scaled_valid_img.csv')\n",
    "df.shape"
   ]
  },
  {
   "cell_type": "markdown",
   "metadata": {},
   "source": [
    "### Append img and text features"
   ]
  },
  {
   "cell_type": "code",
   "execution_count": 3,
   "metadata": {},
   "outputs": [
    {
     "name": "stdout",
     "output_type": "stream",
     "text": [
      "(30432, 385)\n",
      "(29761, 769)\n"
     ]
    }
   ],
   "source": [
    "text_features = pd.read_pickle('Y:/Internship/SoMin/clean/text_features_trial1_0206.pkl')\n",
    "image_features = pd.read_pickle('Y:/Internship/SoMin/clean/image_features_trial1_0206.pkl')\n",
    "print(text_features.shape)\n",
    "print(image_features.shape)"
   ]
  },
  {
   "cell_type": "code",
   "execution_count": 1,
   "metadata": {},
   "outputs": [
    {
     "ename": "NameError",
     "evalue": "name 'text_features' is not defined",
     "output_type": "error",
     "traceback": [
      "\u001b[1;31m---------------------------------------------------------------------------\u001b[0m",
      "\u001b[1;31mNameError\u001b[0m                                 Traceback (most recent call last)",
      "\u001b[1;32m<ipython-input-1-89fc78204846>\u001b[0m in \u001b[0;36m<module>\u001b[1;34m\u001b[0m\n\u001b[1;32m----> 1\u001b[1;33m \u001b[0mtext_features\u001b[0m\u001b[1;33m.\u001b[0m\u001b[0mcolumns\u001b[0m\u001b[1;33m\u001b[0m\u001b[1;33m\u001b[0m\u001b[0m\n\u001b[0m",
      "\u001b[1;31mNameError\u001b[0m: name 'text_features' is not defined"
     ]
    }
   ],
   "source": [
    "text_features.columns"
   ]
  },
  {
   "cell_type": "code",
   "execution_count": null,
   "metadata": {},
   "outputs": [],
   "source": [
    "image_features.columns"
   ]
  },
  {
   "cell_type": "code",
   "execution_count": 6,
   "metadata": {},
   "outputs": [
    {
     "data": {
      "text/plain": [
       "(30852, 47)"
      ]
     },
     "execution_count": 6,
     "metadata": {},
     "output_type": "execute_result"
    }
   ],
   "source": [
    "df = df[df.currency=='USD'].reset_index(drop=True) # USD only\n",
    "df = df[df.country=='US'].reset_index(drop=True) # USD only\n",
    "df.shape"
   ]
  },
  {
   "cell_type": "code",
   "execution_count": 7,
   "metadata": {},
   "outputs": [
    {
     "data": {
      "text/plain": [
       "(29676, 47)"
      ]
     },
     "execution_count": 7,
     "metadata": {},
     "output_type": "execute_result"
    }
   ],
   "source": [
    "df = df[df.ad_id.isin(image_features.ad_id.tolist())].reset_index(drop=True) # retrieved images\n",
    "df.shape"
   ]
  },
  {
   "cell_type": "code",
   "execution_count": 8,
   "metadata": {},
   "outputs": [
    {
     "data": {
      "text/plain": [
       "Index(['Unnamed: 0', 'Unnamed: 0.1', 'search_term', 'country', 'page_id',\n",
       "       'page_name', 'ad_id', 'ad_creation_date', 'ad_creation_month',\n",
       "       'delivery_start', 'delivery_stop', 'delivery_period', 'ad_url',\n",
       "       'ad_body', 'uses_multi_body', 'link_caption', 'uses_multi_capt',\n",
       "       'link_title', 'uses_multi_title', 'link_description', 'uses_multi_desc',\n",
       "       'language', 'uses_multi_lang', 'funded_by', 'currency', 'min_spend',\n",
       "       'max_spend', 'min_impressions', 'max_impressions', 'min_audience_size',\n",
       "       'max_audience_size', 'impressions', 'spend', 'CPM', 'CPM2', 'facebook',\n",
       "       'instagram', 'messenger', 'audience_network', 'demographic_dist',\n",
       "       'spend_per_day', 'impressions_per_day', 'impressions_per_day_log',\n",
       "       'CPM_scaled', 'CPM_scaled_sqrt', 'text_length_score',\n",
       "       'text_percentage'],\n",
       "      dtype='object')"
      ]
     },
     "execution_count": 8,
     "metadata": {},
     "output_type": "execute_result"
    }
   ],
   "source": [
    "df.columns"
   ]
  },
  {
   "cell_type": "code",
   "execution_count": 9,
   "metadata": {},
   "outputs": [
    {
     "data": {
      "text/html": [
       "<div>\n",
       "<style scoped>\n",
       "    .dataframe tbody tr th:only-of-type {\n",
       "        vertical-align: middle;\n",
       "    }\n",
       "\n",
       "    .dataframe tbody tr th {\n",
       "        vertical-align: top;\n",
       "    }\n",
       "\n",
       "    .dataframe thead th {\n",
       "        text-align: right;\n",
       "    }\n",
       "</style>\n",
       "<table border=\"1\" class=\"dataframe\">\n",
       "  <thead>\n",
       "    <tr style=\"text-align: right;\">\n",
       "      <th></th>\n",
       "      <th>ad_id</th>\n",
       "      <th>txt_a0</th>\n",
       "      <th>txt_a1</th>\n",
       "      <th>txt_a2</th>\n",
       "      <th>txt_a3</th>\n",
       "      <th>txt_a4</th>\n",
       "      <th>txt_a5</th>\n",
       "      <th>txt_a6</th>\n",
       "      <th>txt_a7</th>\n",
       "      <th>txt_a8</th>\n",
       "      <th>...</th>\n",
       "      <th>img758</th>\n",
       "      <th>img759</th>\n",
       "      <th>img760</th>\n",
       "      <th>img761</th>\n",
       "      <th>img762</th>\n",
       "      <th>img763</th>\n",
       "      <th>img764</th>\n",
       "      <th>img765</th>\n",
       "      <th>img766</th>\n",
       "      <th>img767</th>\n",
       "    </tr>\n",
       "  </thead>\n",
       "  <tbody>\n",
       "    <tr>\n",
       "      <th>0</th>\n",
       "      <td>762749274711708</td>\n",
       "      <td>-0.184409</td>\n",
       "      <td>0.092720</td>\n",
       "      <td>0.234229</td>\n",
       "      <td>0.244633</td>\n",
       "      <td>0.133959</td>\n",
       "      <td>-0.034743</td>\n",
       "      <td>-0.414326</td>\n",
       "      <td>0.169170</td>\n",
       "      <td>0.161987</td>\n",
       "      <td>...</td>\n",
       "      <td>0.465630</td>\n",
       "      <td>0.002484</td>\n",
       "      <td>-0.085118</td>\n",
       "      <td>0.052690</td>\n",
       "      <td>-0.236282</td>\n",
       "      <td>-0.064323</td>\n",
       "      <td>0.325325</td>\n",
       "      <td>-0.202712</td>\n",
       "      <td>-0.088441</td>\n",
       "      <td>-0.287930</td>\n",
       "    </tr>\n",
       "    <tr>\n",
       "      <th>1</th>\n",
       "      <td>563054608471314</td>\n",
       "      <td>-0.184409</td>\n",
       "      <td>0.092720</td>\n",
       "      <td>0.234229</td>\n",
       "      <td>0.244633</td>\n",
       "      <td>0.133959</td>\n",
       "      <td>-0.034743</td>\n",
       "      <td>-0.414326</td>\n",
       "      <td>0.169170</td>\n",
       "      <td>0.161987</td>\n",
       "      <td>...</td>\n",
       "      <td>0.465630</td>\n",
       "      <td>0.002484</td>\n",
       "      <td>-0.085118</td>\n",
       "      <td>0.052690</td>\n",
       "      <td>-0.236282</td>\n",
       "      <td>-0.064323</td>\n",
       "      <td>0.325325</td>\n",
       "      <td>-0.202712</td>\n",
       "      <td>-0.088441</td>\n",
       "      <td>-0.287930</td>\n",
       "    </tr>\n",
       "    <tr>\n",
       "      <th>2</th>\n",
       "      <td>930566127614072</td>\n",
       "      <td>0.076499</td>\n",
       "      <td>-0.013126</td>\n",
       "      <td>-0.133957</td>\n",
       "      <td>-0.238189</td>\n",
       "      <td>0.210767</td>\n",
       "      <td>0.140465</td>\n",
       "      <td>-0.308346</td>\n",
       "      <td>-0.018898</td>\n",
       "      <td>-0.037311</td>\n",
       "      <td>...</td>\n",
       "      <td>-0.179992</td>\n",
       "      <td>0.032911</td>\n",
       "      <td>0.030026</td>\n",
       "      <td>-0.294595</td>\n",
       "      <td>-0.231033</td>\n",
       "      <td>-0.003755</td>\n",
       "      <td>-0.199238</td>\n",
       "      <td>-0.027423</td>\n",
       "      <td>-0.078111</td>\n",
       "      <td>-0.131632</td>\n",
       "    </tr>\n",
       "    <tr>\n",
       "      <th>3</th>\n",
       "      <td>738864343939155</td>\n",
       "      <td>0.095724</td>\n",
       "      <td>-0.046410</td>\n",
       "      <td>-0.321614</td>\n",
       "      <td>0.034098</td>\n",
       "      <td>0.072352</td>\n",
       "      <td>0.331428</td>\n",
       "      <td>0.310781</td>\n",
       "      <td>-0.053475</td>\n",
       "      <td>0.043906</td>\n",
       "      <td>...</td>\n",
       "      <td>-0.146833</td>\n",
       "      <td>-0.075014</td>\n",
       "      <td>-0.054048</td>\n",
       "      <td>-0.222878</td>\n",
       "      <td>0.120308</td>\n",
       "      <td>-0.341486</td>\n",
       "      <td>-0.292918</td>\n",
       "      <td>-0.210843</td>\n",
       "      <td>0.045422</td>\n",
       "      <td>-0.129597</td>\n",
       "    </tr>\n",
       "    <tr>\n",
       "      <th>4</th>\n",
       "      <td>512240050437223</td>\n",
       "      <td>0.140352</td>\n",
       "      <td>0.102625</td>\n",
       "      <td>-0.044546</td>\n",
       "      <td>0.140429</td>\n",
       "      <td>0.093042</td>\n",
       "      <td>0.280933</td>\n",
       "      <td>0.299975</td>\n",
       "      <td>0.018833</td>\n",
       "      <td>0.110578</td>\n",
       "      <td>...</td>\n",
       "      <td>-0.021403</td>\n",
       "      <td>0.025870</td>\n",
       "      <td>-0.075021</td>\n",
       "      <td>-0.094134</td>\n",
       "      <td>0.051662</td>\n",
       "      <td>-0.187134</td>\n",
       "      <td>-0.271364</td>\n",
       "      <td>-0.129058</td>\n",
       "      <td>-0.115162</td>\n",
       "      <td>0.132305</td>\n",
       "    </tr>\n",
       "    <tr>\n",
       "      <th>...</th>\n",
       "      <td>...</td>\n",
       "      <td>...</td>\n",
       "      <td>...</td>\n",
       "      <td>...</td>\n",
       "      <td>...</td>\n",
       "      <td>...</td>\n",
       "      <td>...</td>\n",
       "      <td>...</td>\n",
       "      <td>...</td>\n",
       "      <td>...</td>\n",
       "      <td>...</td>\n",
       "      <td>...</td>\n",
       "      <td>...</td>\n",
       "      <td>...</td>\n",
       "      <td>...</td>\n",
       "      <td>...</td>\n",
       "      <td>...</td>\n",
       "      <td>...</td>\n",
       "      <td>...</td>\n",
       "      <td>...</td>\n",
       "      <td>...</td>\n",
       "    </tr>\n",
       "    <tr>\n",
       "      <th>31468</th>\n",
       "      <td>381289572628044</td>\n",
       "      <td>0.311172</td>\n",
       "      <td>-0.154511</td>\n",
       "      <td>-0.035533</td>\n",
       "      <td>-0.154961</td>\n",
       "      <td>0.025548</td>\n",
       "      <td>-0.134334</td>\n",
       "      <td>-0.118996</td>\n",
       "      <td>0.206683</td>\n",
       "      <td>-0.042514</td>\n",
       "      <td>...</td>\n",
       "      <td>0.112608</td>\n",
       "      <td>-0.019068</td>\n",
       "      <td>-0.082013</td>\n",
       "      <td>-0.202433</td>\n",
       "      <td>-0.156729</td>\n",
       "      <td>0.015124</td>\n",
       "      <td>-0.232641</td>\n",
       "      <td>-0.035432</td>\n",
       "      <td>-0.121599</td>\n",
       "      <td>-0.171165</td>\n",
       "    </tr>\n",
       "    <tr>\n",
       "      <th>31469</th>\n",
       "      <td>517753845398018</td>\n",
       "      <td>0.311172</td>\n",
       "      <td>-0.154511</td>\n",
       "      <td>-0.035533</td>\n",
       "      <td>-0.154961</td>\n",
       "      <td>0.025548</td>\n",
       "      <td>-0.134334</td>\n",
       "      <td>-0.118996</td>\n",
       "      <td>0.206683</td>\n",
       "      <td>-0.042514</td>\n",
       "      <td>...</td>\n",
       "      <td>-0.043676</td>\n",
       "      <td>-0.007365</td>\n",
       "      <td>-0.020420</td>\n",
       "      <td>-0.408333</td>\n",
       "      <td>-0.079077</td>\n",
       "      <td>0.191462</td>\n",
       "      <td>-0.339416</td>\n",
       "      <td>-0.337108</td>\n",
       "      <td>-0.168544</td>\n",
       "      <td>-0.264438</td>\n",
       "    </tr>\n",
       "    <tr>\n",
       "      <th>31470</th>\n",
       "      <td>1251766551633027</td>\n",
       "      <td>0.311172</td>\n",
       "      <td>-0.154511</td>\n",
       "      <td>-0.035533</td>\n",
       "      <td>-0.154961</td>\n",
       "      <td>0.025548</td>\n",
       "      <td>-0.134334</td>\n",
       "      <td>-0.118996</td>\n",
       "      <td>0.206683</td>\n",
       "      <td>-0.042514</td>\n",
       "      <td>...</td>\n",
       "      <td>-0.036252</td>\n",
       "      <td>-0.033005</td>\n",
       "      <td>-0.099844</td>\n",
       "      <td>-0.245278</td>\n",
       "      <td>-0.182185</td>\n",
       "      <td>-0.055517</td>\n",
       "      <td>-0.100192</td>\n",
       "      <td>-0.015562</td>\n",
       "      <td>-0.046616</td>\n",
       "      <td>0.002111</td>\n",
       "    </tr>\n",
       "    <tr>\n",
       "      <th>31471</th>\n",
       "      <td>205891737021220</td>\n",
       "      <td>0.311172</td>\n",
       "      <td>-0.154511</td>\n",
       "      <td>-0.035533</td>\n",
       "      <td>-0.154961</td>\n",
       "      <td>0.025548</td>\n",
       "      <td>-0.134334</td>\n",
       "      <td>-0.118996</td>\n",
       "      <td>0.206683</td>\n",
       "      <td>-0.042514</td>\n",
       "      <td>...</td>\n",
       "      <td>0.123096</td>\n",
       "      <td>-0.014946</td>\n",
       "      <td>-0.132246</td>\n",
       "      <td>-0.349340</td>\n",
       "      <td>-0.189837</td>\n",
       "      <td>0.163440</td>\n",
       "      <td>-0.058997</td>\n",
       "      <td>-0.095573</td>\n",
       "      <td>-0.131043</td>\n",
       "      <td>0.032312</td>\n",
       "    </tr>\n",
       "    <tr>\n",
       "      <th>31472</th>\n",
       "      <td>264290437582913</td>\n",
       "      <td>0.311172</td>\n",
       "      <td>-0.154511</td>\n",
       "      <td>-0.035533</td>\n",
       "      <td>-0.154961</td>\n",
       "      <td>0.025548</td>\n",
       "      <td>-0.134334</td>\n",
       "      <td>-0.118996</td>\n",
       "      <td>0.206683</td>\n",
       "      <td>-0.042514</td>\n",
       "      <td>...</td>\n",
       "      <td>0.152859</td>\n",
       "      <td>-0.006321</td>\n",
       "      <td>-0.030836</td>\n",
       "      <td>-0.351859</td>\n",
       "      <td>-0.179878</td>\n",
       "      <td>0.068392</td>\n",
       "      <td>-0.061833</td>\n",
       "      <td>-0.263429</td>\n",
       "      <td>-0.022301</td>\n",
       "      <td>0.026110</td>\n",
       "    </tr>\n",
       "  </tbody>\n",
       "</table>\n",
       "<p>31473 rows × 1153 columns</p>\n",
       "</div>"
      ],
      "text/plain": [
       "                  ad_id    txt_a0    txt_a1    txt_a2    txt_a3    txt_a4  \\\n",
       "0       762749274711708 -0.184409  0.092720  0.234229  0.244633  0.133959   \n",
       "1       563054608471314 -0.184409  0.092720  0.234229  0.244633  0.133959   \n",
       "2       930566127614072  0.076499 -0.013126 -0.133957 -0.238189  0.210767   \n",
       "3       738864343939155  0.095724 -0.046410 -0.321614  0.034098  0.072352   \n",
       "4       512240050437223  0.140352  0.102625 -0.044546  0.140429  0.093042   \n",
       "...                 ...       ...       ...       ...       ...       ...   \n",
       "31468   381289572628044  0.311172 -0.154511 -0.035533 -0.154961  0.025548   \n",
       "31469   517753845398018  0.311172 -0.154511 -0.035533 -0.154961  0.025548   \n",
       "31470  1251766551633027  0.311172 -0.154511 -0.035533 -0.154961  0.025548   \n",
       "31471   205891737021220  0.311172 -0.154511 -0.035533 -0.154961  0.025548   \n",
       "31472   264290437582913  0.311172 -0.154511 -0.035533 -0.154961  0.025548   \n",
       "\n",
       "         txt_a5    txt_a6    txt_a7    txt_a8  ...    img758    img759  \\\n",
       "0     -0.034743 -0.414326  0.169170  0.161987  ...  0.465630  0.002484   \n",
       "1     -0.034743 -0.414326  0.169170  0.161987  ...  0.465630  0.002484   \n",
       "2      0.140465 -0.308346 -0.018898 -0.037311  ... -0.179992  0.032911   \n",
       "3      0.331428  0.310781 -0.053475  0.043906  ... -0.146833 -0.075014   \n",
       "4      0.280933  0.299975  0.018833  0.110578  ... -0.021403  0.025870   \n",
       "...         ...       ...       ...       ...  ...       ...       ...   \n",
       "31468 -0.134334 -0.118996  0.206683 -0.042514  ...  0.112608 -0.019068   \n",
       "31469 -0.134334 -0.118996  0.206683 -0.042514  ... -0.043676 -0.007365   \n",
       "31470 -0.134334 -0.118996  0.206683 -0.042514  ... -0.036252 -0.033005   \n",
       "31471 -0.134334 -0.118996  0.206683 -0.042514  ...  0.123096 -0.014946   \n",
       "31472 -0.134334 -0.118996  0.206683 -0.042514  ...  0.152859 -0.006321   \n",
       "\n",
       "         img760    img761    img762    img763    img764    img765    img766  \\\n",
       "0     -0.085118  0.052690 -0.236282 -0.064323  0.325325 -0.202712 -0.088441   \n",
       "1     -0.085118  0.052690 -0.236282 -0.064323  0.325325 -0.202712 -0.088441   \n",
       "2      0.030026 -0.294595 -0.231033 -0.003755 -0.199238 -0.027423 -0.078111   \n",
       "3     -0.054048 -0.222878  0.120308 -0.341486 -0.292918 -0.210843  0.045422   \n",
       "4     -0.075021 -0.094134  0.051662 -0.187134 -0.271364 -0.129058 -0.115162   \n",
       "...         ...       ...       ...       ...       ...       ...       ...   \n",
       "31468 -0.082013 -0.202433 -0.156729  0.015124 -0.232641 -0.035432 -0.121599   \n",
       "31469 -0.020420 -0.408333 -0.079077  0.191462 -0.339416 -0.337108 -0.168544   \n",
       "31470 -0.099844 -0.245278 -0.182185 -0.055517 -0.100192 -0.015562 -0.046616   \n",
       "31471 -0.132246 -0.349340 -0.189837  0.163440 -0.058997 -0.095573 -0.131043   \n",
       "31472 -0.030836 -0.351859 -0.179878  0.068392 -0.061833 -0.263429 -0.022301   \n",
       "\n",
       "         img767  \n",
       "0     -0.287930  \n",
       "1     -0.287930  \n",
       "2     -0.131632  \n",
       "3     -0.129597  \n",
       "4      0.132305  \n",
       "...         ...  \n",
       "31468 -0.171165  \n",
       "31469 -0.264438  \n",
       "31470  0.002111  \n",
       "31471  0.032312  \n",
       "31472  0.026110  \n",
       "\n",
       "[31473 rows x 1153 columns]"
      ]
     },
     "execution_count": 9,
     "metadata": {},
     "output_type": "execute_result"
    }
   ],
   "source": [
    "text_image_features = text_features.merge(image_features, on='ad_id', how='inner')\n",
    "text_image_features"
   ]
  },
  {
   "cell_type": "markdown",
   "metadata": {},
   "source": [
    "### Drop index with invalid image"
   ]
  },
  {
   "cell_type": "code",
   "execution_count": 10,
   "metadata": {},
   "outputs": [],
   "source": [
    "# IMG_DIR = \"Y:/Internship/SoMin/Image\"\n",
    "# img_file = os.listdir(IMG_DIR)"
   ]
  },
  {
   "cell_type": "code",
   "execution_count": 11,
   "metadata": {},
   "outputs": [],
   "source": [
    "# img_file[1][:-4]"
   ]
  },
  {
   "cell_type": "code",
   "execution_count": 12,
   "metadata": {},
   "outputs": [],
   "source": [
    "# df['ad_body'].fillna(\"\", inplace=True)"
   ]
  },
  {
   "cell_type": "code",
   "execution_count": 13,
   "metadata": {},
   "outputs": [],
   "source": [
    "# def text_char_optimality(text):\n",
    "#     \"\"\"\n",
    "#     Why?\n",
    "#     - https://sproutsocial.com/insights/social-media-character-counter/\n",
    "#     - https://baymard.com/blog/line-length-readability\n",
    "#     \"\"\"\n",
    "#     if len(text) <= 50:\n",
    "#         return 5\n",
    "#     if len(text) <= 100:\n",
    "#         return 4\n",
    "#     if len(text) <= 150:\n",
    "#         return 3\n",
    "#     if len(text) <= 200:\n",
    "#         return 2\n",
    "#     return 1\n",
    "\n",
    "# df['text_length_score'] = df['ad_body'].apply(lambda x: text_char_optimality(x))"
   ]
  },
  {
   "cell_type": "code",
   "execution_count": 14,
   "metadata": {},
   "outputs": [],
   "source": [
    "# df.shape"
   ]
  },
  {
   "cell_type": "code",
   "execution_count": 15,
   "metadata": {},
   "outputs": [],
   "source": [
    "# df = df[(np.abs(stats.zscore(df['delivery_period'])) < 2)]\n",
    "# df.shape"
   ]
  },
  {
   "cell_type": "code",
   "execution_count": 16,
   "metadata": {},
   "outputs": [],
   "source": [
    "# df['delivery_period'] = np.log(df['delivery_period'])"
   ]
  },
  {
   "cell_type": "code",
   "execution_count": 15,
   "metadata": {},
   "outputs": [],
   "source": [
    "# df['CPM_scaled_sqrt_bin'] = pd.cut(x=df['CPM_scaled_sqrt'], bins=[0, 10, 20, 30, 40, 100], labels=[0,1,2,3,4], ordered=True)"
   ]
  },
  {
   "cell_type": "code",
   "execution_count": 10,
   "metadata": {},
   "outputs": [
    {
     "data": {
      "text/plain": [
       "(29676, 47)"
      ]
     },
     "execution_count": 10,
     "metadata": {},
     "output_type": "execute_result"
    }
   ],
   "source": [
    "df.shape"
   ]
  },
  {
   "cell_type": "code",
   "execution_count": 11,
   "metadata": {},
   "outputs": [],
   "source": [
    "df.dropna(subset=['CPM_scaled_sqrt'], inplace=True)"
   ]
  },
  {
   "cell_type": "code",
   "execution_count": 12,
   "metadata": {},
   "outputs": [
    {
     "data": {
      "text/plain": [
       "(29651, 47)"
      ]
     },
     "execution_count": 12,
     "metadata": {},
     "output_type": "execute_result"
    }
   ],
   "source": [
    "df.shape"
   ]
  },
  {
   "cell_type": "code",
   "execution_count": 13,
   "metadata": {},
   "outputs": [
    {
     "data": {
      "text/plain": [
       "Index(['Unnamed: 0', 'Unnamed: 0.1', 'search_term', 'country', 'page_id',\n",
       "       'page_name', 'ad_id', 'ad_creation_date', 'ad_creation_month',\n",
       "       'delivery_start', 'delivery_stop', 'delivery_period', 'ad_url',\n",
       "       'ad_body', 'uses_multi_body', 'link_caption', 'uses_multi_capt',\n",
       "       'link_title', 'uses_multi_title', 'link_description', 'uses_multi_desc',\n",
       "       'language', 'uses_multi_lang', 'funded_by', 'currency', 'min_spend',\n",
       "       'max_spend', 'min_impressions', 'max_impressions', 'min_audience_size',\n",
       "       'max_audience_size', 'impressions', 'spend', 'CPM', 'CPM2', 'facebook',\n",
       "       'instagram', 'messenger', 'audience_network', 'demographic_dist',\n",
       "       'spend_per_day', 'impressions_per_day', 'impressions_per_day_log',\n",
       "       'CPM_scaled', 'CPM_scaled_sqrt', 'text_length_score',\n",
       "       'text_percentage'],\n",
       "      dtype='object')"
      ]
     },
     "execution_count": 13,
     "metadata": {},
     "output_type": "execute_result"
    }
   ],
   "source": [
    "df.columns"
   ]
  },
  {
   "cell_type": "code",
   "execution_count": 14,
   "metadata": {},
   "outputs": [
    {
     "data": {
      "text/plain": [
       "(29651, 47)"
      ]
     },
     "execution_count": 14,
     "metadata": {},
     "output_type": "execute_result"
    }
   ],
   "source": [
    "df.shape"
   ]
  },
  {
   "cell_type": "code",
   "execution_count": 15,
   "metadata": {},
   "outputs": [
    {
     "data": {
      "text/plain": [
       "(31473, 1153)"
      ]
     },
     "execution_count": 15,
     "metadata": {},
     "output_type": "execute_result"
    }
   ],
   "source": [
    "text_image_features.shape"
   ]
  },
  {
   "cell_type": "markdown",
   "metadata": {},
   "source": [
    "### Potential predictors <br>\n",
    "- search-term: need embedding to capture meaning? (X)\n",
    "+ ad-creation-month (used now)\n",
    "+ delivery-period (used now)\n",
    "- ad-body: need text processing (used now)\n",
    "+ length of text (used now)\n",
    "- Image text coverage (used now)\n",
    "- ad-image (used now)\n",
    "- like, follow (X)\n",
    "- targeting type (X)"
   ]
  },
  {
   "cell_type": "code",
   "execution_count": 16,
   "metadata": {},
   "outputs": [],
   "source": [
    "feature_set = df[['ad_id','delivery_period','text_length_score','text_percentage',\n",
    "                  'facebook','instagram','messenger','audience_network','CPM_scaled_sqrt']].merge(right=text_image_features, on='ad_id', how='inner')"
   ]
  },
  {
   "cell_type": "code",
   "execution_count": 17,
   "metadata": {},
   "outputs": [
    {
     "data": {
      "text/html": [
       "<div>\n",
       "<style scoped>\n",
       "    .dataframe tbody tr th:only-of-type {\n",
       "        vertical-align: middle;\n",
       "    }\n",
       "\n",
       "    .dataframe tbody tr th {\n",
       "        vertical-align: top;\n",
       "    }\n",
       "\n",
       "    .dataframe thead th {\n",
       "        text-align: right;\n",
       "    }\n",
       "</style>\n",
       "<table border=\"1\" class=\"dataframe\">\n",
       "  <thead>\n",
       "    <tr style=\"text-align: right;\">\n",
       "      <th></th>\n",
       "      <th>ad_id</th>\n",
       "      <th>delivery_period</th>\n",
       "      <th>text_length_score</th>\n",
       "      <th>text_percentage</th>\n",
       "      <th>facebook</th>\n",
       "      <th>instagram</th>\n",
       "      <th>messenger</th>\n",
       "      <th>audience_network</th>\n",
       "      <th>CPM_scaled_sqrt</th>\n",
       "      <th>txt_a0</th>\n",
       "      <th>...</th>\n",
       "      <th>img758</th>\n",
       "      <th>img759</th>\n",
       "      <th>img760</th>\n",
       "      <th>img761</th>\n",
       "      <th>img762</th>\n",
       "      <th>img763</th>\n",
       "      <th>img764</th>\n",
       "      <th>img765</th>\n",
       "      <th>img766</th>\n",
       "      <th>img767</th>\n",
       "    </tr>\n",
       "  </thead>\n",
       "  <tbody>\n",
       "    <tr>\n",
       "      <th>0</th>\n",
       "      <td>762749274711708</td>\n",
       "      <td>1.386294</td>\n",
       "      <td>1</td>\n",
       "      <td>19.610181</td>\n",
       "      <td>1</td>\n",
       "      <td>0</td>\n",
       "      <td>0</td>\n",
       "      <td>0</td>\n",
       "      <td>19.728580</td>\n",
       "      <td>-0.184409</td>\n",
       "      <td>...</td>\n",
       "      <td>0.465630</td>\n",
       "      <td>0.002484</td>\n",
       "      <td>-0.085118</td>\n",
       "      <td>0.052690</td>\n",
       "      <td>-0.236282</td>\n",
       "      <td>-0.064323</td>\n",
       "      <td>0.325325</td>\n",
       "      <td>-0.202712</td>\n",
       "      <td>-0.088441</td>\n",
       "      <td>-0.287930</td>\n",
       "    </tr>\n",
       "    <tr>\n",
       "      <th>1</th>\n",
       "      <td>563054608471314</td>\n",
       "      <td>1.386294</td>\n",
       "      <td>1</td>\n",
       "      <td>19.610181</td>\n",
       "      <td>1</td>\n",
       "      <td>0</td>\n",
       "      <td>0</td>\n",
       "      <td>0</td>\n",
       "      <td>22.784619</td>\n",
       "      <td>-0.184409</td>\n",
       "      <td>...</td>\n",
       "      <td>0.465630</td>\n",
       "      <td>0.002484</td>\n",
       "      <td>-0.085118</td>\n",
       "      <td>0.052690</td>\n",
       "      <td>-0.236282</td>\n",
       "      <td>-0.064323</td>\n",
       "      <td>0.325325</td>\n",
       "      <td>-0.202712</td>\n",
       "      <td>-0.088441</td>\n",
       "      <td>-0.287930</td>\n",
       "    </tr>\n",
       "    <tr>\n",
       "      <th>2</th>\n",
       "      <td>930566127614072</td>\n",
       "      <td>1.791759</td>\n",
       "      <td>1</td>\n",
       "      <td>20.669841</td>\n",
       "      <td>1</td>\n",
       "      <td>1</td>\n",
       "      <td>0</td>\n",
       "      <td>0</td>\n",
       "      <td>19.503617</td>\n",
       "      <td>0.076499</td>\n",
       "      <td>...</td>\n",
       "      <td>-0.179992</td>\n",
       "      <td>0.032911</td>\n",
       "      <td>0.030026</td>\n",
       "      <td>-0.294595</td>\n",
       "      <td>-0.231033</td>\n",
       "      <td>-0.003755</td>\n",
       "      <td>-0.199238</td>\n",
       "      <td>-0.027423</td>\n",
       "      <td>-0.078111</td>\n",
       "      <td>-0.131632</td>\n",
       "    </tr>\n",
       "    <tr>\n",
       "      <th>3</th>\n",
       "      <td>738864343939155</td>\n",
       "      <td>2.772589</td>\n",
       "      <td>1</td>\n",
       "      <td>22.993093</td>\n",
       "      <td>1</td>\n",
       "      <td>0</td>\n",
       "      <td>0</td>\n",
       "      <td>0</td>\n",
       "      <td>15.701232</td>\n",
       "      <td>0.095724</td>\n",
       "      <td>...</td>\n",
       "      <td>-0.146833</td>\n",
       "      <td>-0.075014</td>\n",
       "      <td>-0.054048</td>\n",
       "      <td>-0.222878</td>\n",
       "      <td>0.120308</td>\n",
       "      <td>-0.341486</td>\n",
       "      <td>-0.292918</td>\n",
       "      <td>-0.210843</td>\n",
       "      <td>0.045422</td>\n",
       "      <td>-0.129597</td>\n",
       "    </tr>\n",
       "    <tr>\n",
       "      <th>4</th>\n",
       "      <td>512240050437223</td>\n",
       "      <td>2.944439</td>\n",
       "      <td>1</td>\n",
       "      <td>23.020000</td>\n",
       "      <td>1</td>\n",
       "      <td>1</td>\n",
       "      <td>0</td>\n",
       "      <td>0</td>\n",
       "      <td>21.179027</td>\n",
       "      <td>0.140352</td>\n",
       "      <td>...</td>\n",
       "      <td>-0.021403</td>\n",
       "      <td>0.025870</td>\n",
       "      <td>-0.075021</td>\n",
       "      <td>-0.094134</td>\n",
       "      <td>0.051662</td>\n",
       "      <td>-0.187134</td>\n",
       "      <td>-0.271364</td>\n",
       "      <td>-0.129058</td>\n",
       "      <td>-0.115162</td>\n",
       "      <td>0.132305</td>\n",
       "    </tr>\n",
       "    <tr>\n",
       "      <th>...</th>\n",
       "      <td>...</td>\n",
       "      <td>...</td>\n",
       "      <td>...</td>\n",
       "      <td>...</td>\n",
       "      <td>...</td>\n",
       "      <td>...</td>\n",
       "      <td>...</td>\n",
       "      <td>...</td>\n",
       "      <td>...</td>\n",
       "      <td>...</td>\n",
       "      <td>...</td>\n",
       "      <td>...</td>\n",
       "      <td>...</td>\n",
       "      <td>...</td>\n",
       "      <td>...</td>\n",
       "      <td>...</td>\n",
       "      <td>...</td>\n",
       "      <td>...</td>\n",
       "      <td>...</td>\n",
       "      <td>...</td>\n",
       "      <td>...</td>\n",
       "    </tr>\n",
       "    <tr>\n",
       "      <th>34992</th>\n",
       "      <td>381289572628044</td>\n",
       "      <td>3.367296</td>\n",
       "      <td>1</td>\n",
       "      <td>7.028637</td>\n",
       "      <td>1</td>\n",
       "      <td>1</td>\n",
       "      <td>0</td>\n",
       "      <td>0</td>\n",
       "      <td>15.994003</td>\n",
       "      <td>0.311172</td>\n",
       "      <td>...</td>\n",
       "      <td>0.112608</td>\n",
       "      <td>-0.019068</td>\n",
       "      <td>-0.082013</td>\n",
       "      <td>-0.202433</td>\n",
       "      <td>-0.156729</td>\n",
       "      <td>0.015124</td>\n",
       "      <td>-0.232641</td>\n",
       "      <td>-0.035432</td>\n",
       "      <td>-0.121599</td>\n",
       "      <td>-0.171165</td>\n",
       "    </tr>\n",
       "    <tr>\n",
       "      <th>34993</th>\n",
       "      <td>517753845398018</td>\n",
       "      <td>3.367296</td>\n",
       "      <td>1</td>\n",
       "      <td>17.986111</td>\n",
       "      <td>1</td>\n",
       "      <td>1</td>\n",
       "      <td>0</td>\n",
       "      <td>0</td>\n",
       "      <td>20.082258</td>\n",
       "      <td>0.311172</td>\n",
       "      <td>...</td>\n",
       "      <td>-0.043676</td>\n",
       "      <td>-0.007365</td>\n",
       "      <td>-0.020420</td>\n",
       "      <td>-0.408333</td>\n",
       "      <td>-0.079077</td>\n",
       "      <td>0.191462</td>\n",
       "      <td>-0.339416</td>\n",
       "      <td>-0.337108</td>\n",
       "      <td>-0.168544</td>\n",
       "      <td>-0.264438</td>\n",
       "    </tr>\n",
       "    <tr>\n",
       "      <th>34994</th>\n",
       "      <td>1251766551633027</td>\n",
       "      <td>3.367296</td>\n",
       "      <td>1</td>\n",
       "      <td>8.209660</td>\n",
       "      <td>1</td>\n",
       "      <td>1</td>\n",
       "      <td>0</td>\n",
       "      <td>0</td>\n",
       "      <td>22.690707</td>\n",
       "      <td>0.311172</td>\n",
       "      <td>...</td>\n",
       "      <td>-0.036252</td>\n",
       "      <td>-0.033005</td>\n",
       "      <td>-0.099844</td>\n",
       "      <td>-0.245278</td>\n",
       "      <td>-0.182185</td>\n",
       "      <td>-0.055517</td>\n",
       "      <td>-0.100192</td>\n",
       "      <td>-0.015562</td>\n",
       "      <td>-0.046616</td>\n",
       "      <td>0.002111</td>\n",
       "    </tr>\n",
       "    <tr>\n",
       "      <th>34995</th>\n",
       "      <td>205891737021220</td>\n",
       "      <td>0.000000</td>\n",
       "      <td>1</td>\n",
       "      <td>14.993590</td>\n",
       "      <td>1</td>\n",
       "      <td>1</td>\n",
       "      <td>0</td>\n",
       "      <td>0</td>\n",
       "      <td>18.385652</td>\n",
       "      <td>0.311172</td>\n",
       "      <td>...</td>\n",
       "      <td>0.123096</td>\n",
       "      <td>-0.014946</td>\n",
       "      <td>-0.132246</td>\n",
       "      <td>-0.349340</td>\n",
       "      <td>-0.189837</td>\n",
       "      <td>0.163440</td>\n",
       "      <td>-0.058997</td>\n",
       "      <td>-0.095573</td>\n",
       "      <td>-0.131043</td>\n",
       "      <td>0.032312</td>\n",
       "    </tr>\n",
       "    <tr>\n",
       "      <th>34996</th>\n",
       "      <td>264290437582913</td>\n",
       "      <td>0.000000</td>\n",
       "      <td>1</td>\n",
       "      <td>8.404722</td>\n",
       "      <td>1</td>\n",
       "      <td>1</td>\n",
       "      <td>0</td>\n",
       "      <td>0</td>\n",
       "      <td>25.009490</td>\n",
       "      <td>0.311172</td>\n",
       "      <td>...</td>\n",
       "      <td>0.152859</td>\n",
       "      <td>-0.006321</td>\n",
       "      <td>-0.030836</td>\n",
       "      <td>-0.351859</td>\n",
       "      <td>-0.179878</td>\n",
       "      <td>0.068392</td>\n",
       "      <td>-0.061833</td>\n",
       "      <td>-0.263429</td>\n",
       "      <td>-0.022301</td>\n",
       "      <td>0.026110</td>\n",
       "    </tr>\n",
       "  </tbody>\n",
       "</table>\n",
       "<p>34997 rows × 1161 columns</p>\n",
       "</div>"
      ],
      "text/plain": [
       "                  ad_id  delivery_period  text_length_score  text_percentage  \\\n",
       "0       762749274711708         1.386294                  1        19.610181   \n",
       "1       563054608471314         1.386294                  1        19.610181   \n",
       "2       930566127614072         1.791759                  1        20.669841   \n",
       "3       738864343939155         2.772589                  1        22.993093   \n",
       "4       512240050437223         2.944439                  1        23.020000   \n",
       "...                 ...              ...                ...              ...   \n",
       "34992   381289572628044         3.367296                  1         7.028637   \n",
       "34993   517753845398018         3.367296                  1        17.986111   \n",
       "34994  1251766551633027         3.367296                  1         8.209660   \n",
       "34995   205891737021220         0.000000                  1        14.993590   \n",
       "34996   264290437582913         0.000000                  1         8.404722   \n",
       "\n",
       "       facebook  instagram  messenger  audience_network  CPM_scaled_sqrt  \\\n",
       "0             1          0          0                 0        19.728580   \n",
       "1             1          0          0                 0        22.784619   \n",
       "2             1          1          0                 0        19.503617   \n",
       "3             1          0          0                 0        15.701232   \n",
       "4             1          1          0                 0        21.179027   \n",
       "...         ...        ...        ...               ...              ...   \n",
       "34992         1          1          0                 0        15.994003   \n",
       "34993         1          1          0                 0        20.082258   \n",
       "34994         1          1          0                 0        22.690707   \n",
       "34995         1          1          0                 0        18.385652   \n",
       "34996         1          1          0                 0        25.009490   \n",
       "\n",
       "         txt_a0  ...    img758    img759    img760    img761    img762  \\\n",
       "0     -0.184409  ...  0.465630  0.002484 -0.085118  0.052690 -0.236282   \n",
       "1     -0.184409  ...  0.465630  0.002484 -0.085118  0.052690 -0.236282   \n",
       "2      0.076499  ... -0.179992  0.032911  0.030026 -0.294595 -0.231033   \n",
       "3      0.095724  ... -0.146833 -0.075014 -0.054048 -0.222878  0.120308   \n",
       "4      0.140352  ... -0.021403  0.025870 -0.075021 -0.094134  0.051662   \n",
       "...         ...  ...       ...       ...       ...       ...       ...   \n",
       "34992  0.311172  ...  0.112608 -0.019068 -0.082013 -0.202433 -0.156729   \n",
       "34993  0.311172  ... -0.043676 -0.007365 -0.020420 -0.408333 -0.079077   \n",
       "34994  0.311172  ... -0.036252 -0.033005 -0.099844 -0.245278 -0.182185   \n",
       "34995  0.311172  ...  0.123096 -0.014946 -0.132246 -0.349340 -0.189837   \n",
       "34996  0.311172  ...  0.152859 -0.006321 -0.030836 -0.351859 -0.179878   \n",
       "\n",
       "         img763    img764    img765    img766    img767  \n",
       "0     -0.064323  0.325325 -0.202712 -0.088441 -0.287930  \n",
       "1     -0.064323  0.325325 -0.202712 -0.088441 -0.287930  \n",
       "2     -0.003755 -0.199238 -0.027423 -0.078111 -0.131632  \n",
       "3     -0.341486 -0.292918 -0.210843  0.045422 -0.129597  \n",
       "4     -0.187134 -0.271364 -0.129058 -0.115162  0.132305  \n",
       "...         ...       ...       ...       ...       ...  \n",
       "34992  0.015124 -0.232641 -0.035432 -0.121599 -0.171165  \n",
       "34993  0.191462 -0.339416 -0.337108 -0.168544 -0.264438  \n",
       "34994 -0.055517 -0.100192 -0.015562 -0.046616  0.002111  \n",
       "34995  0.163440 -0.058997 -0.095573 -0.131043  0.032312  \n",
       "34996  0.068392 -0.061833 -0.263429 -0.022301  0.026110  \n",
       "\n",
       "[34997 rows x 1161 columns]"
      ]
     },
     "execution_count": 17,
     "metadata": {},
     "output_type": "execute_result"
    }
   ],
   "source": [
    "feature_set"
   ]
  },
  {
   "cell_type": "code",
   "execution_count": 18,
   "metadata": {},
   "outputs": [],
   "source": [
    "X = feature_set.drop(['ad_id', 'CPM_scaled_sqrt'], axis=1)\n",
    "y = feature_set[['CPM_scaled_sqrt']]"
   ]
  },
  {
   "cell_type": "code",
   "execution_count": 19,
   "metadata": {},
   "outputs": [
    {
     "name": "stdout",
     "output_type": "stream",
     "text": [
      "Shape of X:\t (34997, 1159)\n",
      "Shape of y:\t (34997, 1)\n"
     ]
    }
   ],
   "source": [
    "print('Shape of X:\\t', X.shape)\n",
    "print('Shape of y:\\t', y.shape)"
   ]
  },
  {
   "cell_type": "markdown",
   "metadata": {},
   "source": [
    "# Visualization"
   ]
  },
  {
   "cell_type": "code",
   "execution_count": 20,
   "metadata": {},
   "outputs": [
    {
     "data": {
      "text/plain": [
       "(array([  327.,  1203.,  2640.,  6101., 11492.,  9177.,  3055.,   729.,\n",
       "          217.,    56.]),\n",
       " array([ 1.5472947 ,  5.84393213, 10.14056955, 14.43720698, 18.7338444 ,\n",
       "        23.03048183, 27.32711925, 31.62375668, 35.9203941 , 40.21703153,\n",
       "        44.51366895]),\n",
       " <BarContainer object of 10 artists>)"
      ]
     },
     "execution_count": 20,
     "metadata": {},
     "output_type": "execute_result"
    },
    {
     "data": {
      "image/png": "[encoded data removed]",
      "text/plain": [
       "<Figure size 432x288 with 1 Axes>"
      ]
     },
     "metadata": {
      "needs_background": "light"
     },
     "output_type": "display_data"
    }
   ],
   "source": [
    "plt.hist(y)"
   ]
  },
  {
   "cell_type": "markdown",
   "metadata": {},
   "source": [
    "The distribution looks normal, but it is good for regression problem. Classification problem may prefer even distribution"
   ]
  },
  {
   "cell_type": "code",
   "execution_count": 21,
   "metadata": {},
   "outputs": [],
   "source": [
    "# 60-20-20 split\n",
    "X_train, X_test, y_train, y_test = train_test_split(X, y, test_size=0.20, random_state=42)\n",
    "# X_train, X_val, y_train, y_val = train_test_split(X_train, y_train, test_size=0.25, random_state=42)"
   ]
  },
  {
   "cell_type": "code",
   "execution_count": 22,
   "metadata": {},
   "outputs": [
    {
     "name": "stdout",
     "output_type": "stream",
     "text": [
      "(27997, 1159)\n",
      "(7000, 1159)\n"
     ]
    }
   ],
   "source": [
    "print(X_train.shape)\n",
    "# print(X_val.shape)\n",
    "print(X_test.shape)"
   ]
  },
  {
   "cell_type": "markdown",
   "metadata": {},
   "source": [
    "## Model"
   ]
  },
  {
   "cell_type": "code",
   "execution_count": 23,
   "metadata": {},
   "outputs": [],
   "source": [
    "def report(y_train, y_train_pred, y_test, y_test_pred):\n",
    "    rmse_train = np.sqrt(mean_squared_error(y_train, y_train_pred))\n",
    "    rmse_test = np.sqrt(mean_squared_error(y_test, y_test_pred))\n",
    "\n",
    "    print(\"Root mean square error train:\\t\", rmse_train)\n",
    "    print(\"Root mean square error test:\\t\", rmse_test)\n",
    "    print(\"Mean value of y_train_pred:\\t\", np.mean(y_train_pred))\n",
    "    print(\"Mean value of y_test_pred:\\t\", np.mean(y_test_pred))\n",
    "    print(\"Ratio train:\\t\", rmse_train/np.mean(y_train_pred))\n",
    "    print(\"Ratio test:\\t\", rmse_test/np.mean(y_test_pred))"
   ]
  },
  {
   "cell_type": "markdown",
   "metadata": {},
   "source": [
    "# Linear Regression"
   ]
  },
  {
   "cell_type": "code",
   "execution_count": 32,
   "metadata": {},
   "outputs": [
    {
     "name": "stdout",
     "output_type": "stream",
     "text": [
      "Root mean square error train:\t 5.359339469496698\n",
      "Root mean square error test:\t 5.6708877428638065\n",
      "Mean value of y_train_pred:\t 21.20673484688029\n",
      "Mean value of y_test_pred:\t 21.223483340443114\n",
      "Ratio train:\t 0.2527187475202061\n",
      "Ratio test:\t 0.26719872755559676\n"
     ]
    }
   ],
   "source": [
    "model = LinearRegression()\n",
    "model.fit(X_train, y_train)\n",
    "y_train_pred = model.predict(X_train)\n",
    "y_test_pred = model.predict(X_test)\n",
    "\n",
    "report(y_train, y_train_pred, y_test, y_test_pred)"
   ]
  },
  {
   "cell_type": "markdown",
   "metadata": {},
   "source": [
    "# XGB Regressor"
   ]
  },
  {
   "cell_type": "code",
   "execution_count": 24,
   "metadata": {},
   "outputs": [
    {
     "name": "stderr",
     "output_type": "stream",
     "text": [
      "C:\\Users\\root\\anaconda3\\lib\\site-packages\\xgboost\\data.py:112: UserWarning: Use subset (sliced data) of np.ndarray is not recommended because it will generate extra copies and increase memory consumption\n",
      "  warnings.warn(\n"
     ]
    },
    {
     "name": "stdout",
     "output_type": "stream",
     "text": [
      "Root mean square error train:\t 4.185188908624585\n",
      "Root mean square error test:\t 5.332050657144101\n",
      "Mean value of y_train_pred:\t 21.206638\n",
      "Mean value of y_test_pred:\t 21.17805\n",
      "Ratio train:\t 0.1973527742718202\n",
      "Ratio test:\t 0.2517725138471376\n"
     ]
    }
   ],
   "source": [
    "xgb = XGBRegressor()\n",
    "xgb.fit(X_train, y_train)\n",
    "y_train_pred = xgb.predict(X_train)\n",
    "y_test_pred = xgb.predict(X_test)\n",
    "\n",
    "report(y_train, y_train_pred, y_test, y_test_pred)"
   ]
  },
  {
   "cell_type": "markdown",
   "metadata": {},
   "source": [
    "# SVR"
   ]
  },
  {
   "cell_type": "code",
   "execution_count": 25,
   "metadata": {},
   "outputs": [
    {
     "name": "stderr",
     "output_type": "stream",
     "text": [
      "C:\\Users\\root\\anaconda3\\lib\\site-packages\\sklearn\\utils\\validation.py:72: DataConversionWarning: A column-vector y was passed when a 1d array was expected. Please change the shape of y to (n_samples, ), for example using ravel().\n",
      "  return f(**kwargs)\n"
     ]
    },
    {
     "name": "stdout",
     "output_type": "stream",
     "text": [
      "Root mean square error train:\t 5.520362869627614\n",
      "Root mean square error test:\t 5.648365004519244\n",
      "Mean value of y_train_pred:\t 21.52448676061499\n",
      "Mean value of y_test_pred:\t 21.5195851081366\n",
      "Ratio train:\t 0.2564689662997515\n",
      "Ratio test:\t 0.26247555313617943\n"
     ]
    }
   ],
   "source": [
    "from sklearn.svm import SVR\n",
    "svr = SVR()\n",
    "svr.fit(X_train, y_train)\n",
    "y_train_pred = svr.predict(X_train)\n",
    "y_test_pred = svr.predict(X_test)\n",
    "\n",
    "report(y_train, y_train_pred, y_test, y_test_pred)"
   ]
  },
  {
   "cell_type": "code",
   "execution_count": 26,
   "metadata": {},
   "outputs": [
    {
     "data": {
      "text/plain": [
       "Index(['ad_id', 'delivery_period', 'text_length_score', 'text_percentage',\n",
       "       'facebook', 'instagram', 'messenger', 'audience_network',\n",
       "       'CPM_scaled_sqrt', 'txt_a0',\n",
       "       ...\n",
       "       'img758', 'img759', 'img760', 'img761', 'img762', 'img763', 'img764',\n",
       "       'img765', 'img766', 'img767'],\n",
       "      dtype='object', length=1161)"
      ]
     },
     "execution_count": 26,
     "metadata": {},
     "output_type": "execute_result"
    }
   ],
   "source": [
    "feature_set.columns"
   ]
  },
  {
   "cell_type": "code",
   "execution_count": 27,
   "metadata": {},
   "outputs": [],
   "source": [
    "feature_set.to_csv('Y:/Internship/SoMin/clean/feature_set_regression.csv')\n",
    "pd.to_pickle(feature_set, 'Y:/Internship/SoMin/clean/feature_set_regression.pkl')"
   ]
  },
  {
   "cell_type": "code",
   "execution_count": null,
   "metadata": {},
   "outputs": [],
   "source": []
  }
 ],
 "metadata": {
  "kernelspec": {
   "display_name": "Python 3",
   "language": "python",
   "name": "python3"
  },
  "language_info": {
   "codemirror_mode": {
    "name": "ipython",
    "version": 3
   },
   "file_extension": ".py",
   "mimetype": "text/x-python",
   "name": "python",
   "nbconvert_exporter": "python",
   "pygments_lexer": "ipython3",
   "version": "3.8.5"
  }
 },
 "nbformat": 4,
 "nbformat_minor": 4
}
