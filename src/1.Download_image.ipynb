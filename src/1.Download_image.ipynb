{
 "cells": [
  {
   "cell_type": "code",
   "execution_count": 1,
   "metadata": {},
   "outputs": [],
   "source": [
    "import requests, re, pandas as pd, numpy as np\n",
    "from itertools import product\n",
    "from bs4 import BeautifulSoup as bs\n",
    "from scipy import stats\n",
    "import pandas as pd\n",
    "import numpy as np\n",
    "from datetime import datetime\n",
    "from xgboost import XGBClassifier, XGBRegressor\n",
    "import utils"
   ]
  },
  {
   "cell_type": "code",
   "execution_count": 2,
   "metadata": {},
   "outputs": [
    {
     "name": "stdout",
     "output_type": "stream",
     "text": [
      "38985\n"
     ]
    }
   ],
   "source": [
    "import os\n",
    "import pickle\n",
    "from datetime import datetime\n",
    "def ensure_folder_exists(folder_path):\n",
    "    \"\"\"\n",
    "    Creates the specified folder if it does not already exist\n",
    "    \"\"\"\n",
    "    if not os.path.exists(folder_path):\n",
    "        os.makedirs(folder_path)\n",
    "\n",
    "\n",
    "def load_pickle(file_path):\n",
    "    \"\"\"\n",
    "    Loads a pickle from the file system\n",
    "    \"\"\"\n",
    "    return pickle.load(open(file_path, 'rb')) if os.path.isfile(file_path) else None\n",
    "\n",
    "\n",
    "def save_pickle(file_path, data):\n",
    "    \"\"\"\n",
    "    Saves the specified object as a pickle to the file system\n",
    "    \"\"\"\n",
    "    with open(file_path, 'wb') as f:\n",
    "        pickle.dump(data, f)\n",
    "        \n",
    "target = 'Y:/Internship/SoMin/Notebook/raw/20220523/adlibrary_ads.pkl'\n",
    "if os.path.getsize(target) > 0: \n",
    "    all_ads = load_pickle(target)\n",
    "    print(len(all_ads))\n",
    "else:\n",
    "    print('empty')"
   ]
  },
  {
   "cell_type": "code",
   "execution_count": 3,
   "metadata": {},
   "outputs": [],
   "source": [
    "def get_image_url(source):\n",
    "    \"\"\"\n",
    "    function to extract image_url from the retreived data from Ad Library API\n",
    "    Why?: the URL obtained via the endpoint is not an image_url but instead a url for a snapshot of the entire ad\n",
    "    \"\"\"\n",
    "    \n",
    "    source = soup(requests.get(ad_url).content, 'html.parser')\n",
    "    pattern = r'\"resized_image_url\":\"(?:\\\\.|[^\"\\\\])*\"' # find resized_image_url : <image_url>\n",
    "    try:\n",
    "        image_url = re.findall(pattern, str(source))[0].split('\"resized_image_url\":')[1].replace('\\\\', '').replace('\"', '').replace(\"'\", '')\n",
    "    except:\n",
    "        image_url = np.nan\n",
    "    return image_url\n",
    "\n",
    "\n",
    "def process_ads(ads):\n",
    "    \"\"\"\n",
    "    processes Ads retrieved from Ads Archive (FB Ad Library)\n",
    "    \"\"\"\n",
    "    df = pd.DataFrame(ads)    \n",
    "    clean = []\n",
    "    for _, row in df.iterrows():\n",
    "        m = {}\n",
    "        m['search_term'] = row['topic']\n",
    "        m['country'] = row['country']\n",
    "        m['page_id'] = row['page_id']\n",
    "        m['page_name'] = row['page_name']\n",
    "        m['ad_id'] = row['id']\n",
    "        \n",
    "        m['ad_creation_date'] = row['ad_creation_time']\n",
    "        if m['ad_creation_date'] is np.nan:\n",
    "            continue\n",
    "        m['ad_creation_month'] = int(m['ad_creation_date'][5:7])\n",
    "        \n",
    "        \n",
    "        m['delivery_start'] = row['ad_delivery_start_time']\n",
    "        if m['delivery_start'] is np.nan:\n",
    "            continue\n",
    "            \n",
    "        m['delivery_stop'] = row['ad_delivery_stop_time']\n",
    "        if m['delivery_stop'] is np.nan:\n",
    "            continue\n",
    "        \n",
    "        start = datetime.strptime(m['delivery_start'], '%Y-%m-%d')\n",
    "        stop = datetime.strptime(m['delivery_stop'], '%Y-%m-%d')\n",
    "        m['delivery_period'] = (stop-start).days\n",
    "        \n",
    "        m['ad_url'] = row['ad_snapshot_url']\n",
    "        \n",
    "#         try:\n",
    "#             source = soup(requests.get(row['ad_snapshot_url']).content, 'html.parser')\n",
    "#             m['image_url'] = get_image_url(source)\n",
    "#         except:\n",
    "#             m['image_url'] = np.nan # some ads are wrongly classified as having images\n",
    "        \n",
    "        ad_body = row['ad_creative_bodies']\n",
    "        m['ad_body'] = ad_body[0] if (type(ad_body) == list) else ''\n",
    "        m['uses_multi_body'] = 1 if ((type(ad_body) == list) and (len(set(ad_body)) > 1)) else 0\n",
    "        \n",
    "        link_capt = row['ad_creative_link_captions']\n",
    "        m['link_caption'] = link_capt[0] if (type(link_capt) == list) else ''\n",
    "        m['uses_multi_capt'] = 1 if ((type(link_capt) == list) and (len(set(link_capt)) > 1)) else 0\n",
    "        \n",
    "        link_title = row['ad_creative_link_titles']\n",
    "        m['link_title'] = link_title[0] if (type(link_title) == list) else ''\n",
    "        m['uses_multi_title'] = 1 if ((type(link_title) == list) and (len(set(link_title)) > 1)) else 0\n",
    "        \n",
    "        link_desc = row['ad_creative_link_descriptions']\n",
    "        m['link_description'] = link_desc[0] if (type(link_desc) == list) else ''\n",
    "        m['uses_multi_desc'] = 1 if ((type(link_desc) == list) and (len(set(link_desc)) > 1)) else 0\n",
    "        \n",
    "        lang = row['languages']\n",
    "        m['language'] = ','.join(lang) if (type(lang) == list) else ''\n",
    "        m['uses_multi_lang'] = 1 if ((type(lang) == list) and (len(set(lang)) > 1)) else 0\n",
    "        \n",
    "        m['funded_by'] = row['bylines'] if type(row['bylines']) == str else ''\n",
    "        m['currency'] = row['currency']\n",
    "        \n",
    "        spend = row['spend']\n",
    "        m['min_spend'] = spend.get('lower_bound', np.nan)\n",
    "        m['max_spend'] = spend.get('upper_bound', np.nan)\n",
    "        \n",
    "        impressions = row['impressions']\n",
    "        m['min_impressions'] = impressions.get('lower_bound', np.nan)\n",
    "        m['max_impressions'] = impressions.get('upper_bound', np.nan)\n",
    "        \n",
    "        audience_size = row['estimated_audience_size']\n",
    "        m['min_audience_size'] = audience_size.get('lower_bound', np.nan) if type(audience_size)==dict else np.nan\n",
    "        m['max_audience_size'] = audience_size.get('upper_bound', np.nan) if type(audience_size)==dict else np.nan\n",
    "        \n",
    "        \n",
    "        if m['max_impressions'] is np.nan or m['min_impressions'] is np.nan: \n",
    "            m['impressions'] = 0\n",
    "            continue\n",
    "        else:\n",
    "            m['impressions'] = (int(m['max_impressions']) + int(m['min_impressions']))/2\n",
    "            \n",
    "        if m['max_spend'] is np.nan or m['min_spend'] is np.nan: \n",
    "            m['spend'] = 0\n",
    "            continue\n",
    "        else:\n",
    "            m['spend'] = (int(m['max_spend']) + int(m['min_spend']))/2\n",
    "        \n",
    "        \n",
    "        if m['max_impressions'] is np.nan or m['max_impressions'] == 0:\n",
    "            m['CPM'] = 0\n",
    "            continue\n",
    "        else:\n",
    "            m['CPM'] = int(m['max_spend']) / int(m['max_impressions']) * 1000\n",
    "        \n",
    "        \n",
    "        if m['max_impressions'] is np.nan or m['max_impressions'] == 0:\n",
    "            m['CPM2'] = 0\n",
    "            continue\n",
    "        else:\n",
    "            m['CPM2'] = int(m['spend']) / int(m['impressions']) * 1000\n",
    "        \n",
    "        \n",
    "        \n",
    "        platforms = row['publisher_platforms']\n",
    "        m['facebook'] = 1 if ((type(platforms) == list) and ('facebook' in platforms)) else 0\n",
    "        m['instagram'] = 1 if ((type(platforms) == list) and ('instagram' in platforms)) else 0\n",
    "        m['messenger'] = 1 if ((type(platforms) == list) and ('messenger' in platforms)) else 0\n",
    "        m['audience_network'] = 1 if ((type(platforms) == list) and ('audience_network' in platforms)) else 0\n",
    "        \n",
    "        m['demographic_dist'] = row['demographic_distribution']\n",
    "        clean.append(m)\n",
    "        \n",
    "    return pd.DataFrame(clean)"
   ]
  },
  {
   "cell_type": "code",
   "execution_count": 4,
   "metadata": {},
   "outputs": [],
   "source": [
    "# start = datetime.strptime('2022-03-12', '%Y-%m-%d')\n",
    "# stop = datetime.strptime('2022-04-16', '%Y-%m-%d')\n",
    "# type((stop-start).days)"
   ]
  },
  {
   "cell_type": "code",
   "execution_count": 5,
   "metadata": {},
   "outputs": [
    {
     "ename": "KeyboardInterrupt",
     "evalue": "",
     "output_type": "error",
     "traceback": [
      "\u001b[1;31m---------------------------------------------------------------------------\u001b[0m",
      "\u001b[1;31mKeyboardInterrupt\u001b[0m                         Traceback (most recent call last)",
      "\u001b[1;32m<ipython-input-5-922412a5f775>\u001b[0m in \u001b[0;36m<module>\u001b[1;34m\u001b[0m\n\u001b[1;32m----> 1\u001b[1;33m \u001b[0mdf\u001b[0m \u001b[1;33m=\u001b[0m \u001b[0mprocess_ads\u001b[0m\u001b[1;33m(\u001b[0m\u001b[0mall_ads\u001b[0m\u001b[1;33m)\u001b[0m\u001b[1;33m\u001b[0m\u001b[1;33m\u001b[0m\u001b[0m\n\u001b[0m\u001b[0;32m      2\u001b[0m \u001b[0mdf\u001b[0m\u001b[1;33m\u001b[0m\u001b[1;33m\u001b[0m\u001b[0m\n",
      "\u001b[1;32m<ipython-input-3-1cbf756e784e>\u001b[0m in \u001b[0;36mprocess_ads\u001b[1;34m(ads)\u001b[0m\n\u001b[0;32m     19\u001b[0m     \"\"\"\n\u001b[0;32m     20\u001b[0m     \u001b[0mdf\u001b[0m \u001b[1;33m=\u001b[0m \u001b[0mpd\u001b[0m\u001b[1;33m.\u001b[0m\u001b[0mDataFrame\u001b[0m\u001b[1;33m(\u001b[0m\u001b[0mads\u001b[0m\u001b[1;33m)\u001b[0m\u001b[1;33m\u001b[0m\u001b[1;33m\u001b[0m\u001b[0m\n\u001b[1;32m---> 21\u001b[1;33m     \u001b[0mclean\u001b[0m \u001b[1;33m=\u001b[0m \u001b[1;33m[\u001b[0m\u001b[1;33m]\u001b[0m\u001b[1;33m\u001b[0m\u001b[1;33m\u001b[0m\u001b[0m\n\u001b[0m\u001b[0;32m     22\u001b[0m     \u001b[1;32mfor\u001b[0m \u001b[0m_\u001b[0m\u001b[1;33m,\u001b[0m \u001b[0mrow\u001b[0m \u001b[1;32min\u001b[0m \u001b[0mdf\u001b[0m\u001b[1;33m.\u001b[0m\u001b[0miterrows\u001b[0m\u001b[1;33m(\u001b[0m\u001b[1;33m)\u001b[0m\u001b[1;33m:\u001b[0m\u001b[1;33m\u001b[0m\u001b[1;33m\u001b[0m\u001b[0m\n\u001b[0;32m     23\u001b[0m         \u001b[0mm\u001b[0m \u001b[1;33m=\u001b[0m \u001b[1;33m{\u001b[0m\u001b[1;33m}\u001b[0m\u001b[1;33m\u001b[0m\u001b[1;33m\u001b[0m\u001b[0m\n",
      "\u001b[1;31mKeyboardInterrupt\u001b[0m: "
     ]
    }
   ],
   "source": [
    "df = process_ads(all_ads)\n",
    "df"
   ]
  },
  {
   "cell_type": "code",
   "execution_count": null,
   "metadata": {},
   "outputs": [],
   "source": [
    "pd.DataFrame(df['ad_id'].unique()).count()"
   ]
  },
  {
   "cell_type": "code",
   "execution_count": null,
   "metadata": {},
   "outputs": [],
   "source": [
    "df.info()"
   ]
  },
  {
   "cell_type": "code",
   "execution_count": null,
   "metadata": {},
   "outputs": [],
   "source": [
    "df.max_spend.describe()"
   ]
  },
  {
   "cell_type": "code",
   "execution_count": null,
   "metadata": {},
   "outputs": [],
   "source": [
    "df.iloc[120]"
   ]
  },
  {
   "cell_type": "code",
   "execution_count": null,
   "metadata": {},
   "outputs": [],
   "source": [
    "df.iloc[5].ad_url"
   ]
  },
  {
   "cell_type": "code",
   "execution_count": null,
   "metadata": {},
   "outputs": [],
   "source": [
    "df.columns"
   ]
  },
  {
   "cell_type": "code",
   "execution_count": null,
   "metadata": {},
   "outputs": [],
   "source": [
    "err_index = []\n",
    "err_ad_id = []\n",
    "for index in range(df.shape[0]):\n",
    "    img_url = utils.get_image_url(df.iloc[index].ad_url)\n",
    "    try:\n",
    "        utils.download_image(img_url, f'Y:/Internship/SoMin/Notebook/raw/Image/{str(df.iloc[index].ad_id)}.png')\n",
    "        print(f'download index {index}, ad_id = {df.iloc[index].ad_id}')\n",
    "    except Exception as e:\n",
    "        print('Some error happened:', e)\n",
    "        err_index.append(index)\n",
    "        err_ad_id.append(df.iloc[index].ad_id)"
   ]
  },
  {
   "cell_type": "code",
   "execution_count": 47,
   "metadata": {},
   "outputs": [],
   "source": [
    "save_pickle(f'Y:/Internship/SoMin/Notebook/log/error_ad_id.pkl', err_ad_id)"
   ]
  },
  {
   "cell_type": "code",
   "execution_count": null,
   "metadata": {},
   "outputs": [],
   "source": []
  },
  {
   "cell_type": "code",
   "execution_count": 27,
   "metadata": {},
   "outputs": [
    {
     "data": {
      "text/plain": [
       "'https://scontent.fsgn5-9.fna.fbcdn.net/v/t39.35426-6/258267279_938689570405214_8432556817527078711_n.jpg?stp=dst-jpg_s600x600&_nc_cat=105&ccb=1-7&_nc_sid=cf96c8&_nc_ohc=yGumIlYdC1oAX94EUlK&_nc_ht=scontent.fsgn5-9.fna&oh=00_AT-dih4ae-6Iauq3aXmEEIg350cViuVUsqSKSaDkoeFsIw&oe=6293641E'"
      ]
     },
     "execution_count": 27,
     "metadata": {},
     "output_type": "execute_result"
    }
   ],
   "source": [
    "j = 0\n",
    "img_url = utils.get_image_url(df.iloc[6].ad_url)\n",
    "img_url"
   ]
  },
  {
   "cell_type": "code",
   "execution_count": 26,
   "metadata": {},
   "outputs": [],
   "source": [
    "# utils.download_image(img_url, 'Y:/Internship/SoMin/Notebook/raw/img.png')"
   ]
  },
  {
   "cell_type": "code",
   "execution_count": 1,
   "metadata": {},
   "outputs": [],
   "source": [
    "# from facebookads.adobjects.adaccount import AdAccount\n",
    "\n",
    "# account = AdAccount('act_3016969751720365')\n",
    "# # params = {\n",
    "# #     'hashes': [\n",
    "# #         <IMAGE_1_HASH>,\n",
    "# #         <IMAGE_2_HASH>,\n",
    "# #     ],\n",
    "# # }\n",
    "# images = account.get_ad_images()"
   ]
  },
  {
   "cell_type": "code",
   "execution_count": 33,
   "metadata": {},
   "outputs": [],
   "source": [
    "df['min_spend']=df['min_spend'].astype('int64')\n",
    "df['max_spend']=df['max_spend'].astype('int64')\n",
    "# df['max_impressions'].fillna(0, inplace=True)\n",
    "df['min_impressions']=df['min_impressions'].astype('int64')\n",
    "df['max_impressions']=df['max_impressions'].astype('int64')\n",
    "\n",
    "df['country']=df['country'].astype('category')\n",
    "df['search_term']=df['search_term'].astype('category')\n",
    "\n",
    "# # df['min_audience_size']=df['min_audience_size'].astype('int64')\n",
    "# # df['max_audience_size']=df['max_audience_size'].astype('int64')"
   ]
  },
  {
   "cell_type": "code",
   "execution_count": 34,
   "metadata": {},
   "outputs": [
    {
     "data": {
      "text/plain": [
       "0"
      ]
     },
     "execution_count": 34,
     "metadata": {},
     "output_type": "execute_result"
    }
   ],
   "source": [
    "sum(df['max_impressions'].isna())"
   ]
  },
  {
   "cell_type": "code",
   "execution_count": 35,
   "metadata": {},
   "outputs": [],
   "source": [
    "# N = len(all_ads)\n",
    "# for i in range(N):\n",
    "#     print(df.iloc[i]['max_spend'], df.iloc[i]['max_impressions'], df.iloc[i]['CPM'], df.iloc[i]['CPM2'])"
   ]
  },
  {
   "cell_type": "code",
   "execution_count": 36,
   "metadata": {},
   "outputs": [
    {
     "name": "stdout",
     "output_type": "stream",
     "text": [
      "number of posts that use multiple body type 1671\n",
      "number of posts that use multiple captions 194\n",
      "number of posts that use multiple titles 1893\n",
      "number of posts that use multiple description 1006\n",
      "number of posts that use multiple language 69\n",
      "over  38985\n"
     ]
    }
   ],
   "source": [
    "print('number of posts that use multiple body type', sum(df['uses_multi_body']))\n",
    "print('number of posts that use multiple captions', sum(df['uses_multi_capt']))\n",
    "print('number of posts that use multiple titles', sum(df['uses_multi_title']))\n",
    "print('number of posts that use multiple description', sum(df['uses_multi_desc']))\n",
    "print('number of posts that use multiple language', sum(df['uses_multi_lang']))\n",
    "\n",
    "print('over ', len(all_ads))"
   ]
  },
  {
   "cell_type": "code",
   "execution_count": 37,
   "metadata": {},
   "outputs": [
    {
     "data": {
      "text/plain": [
       "(38874, 38)"
      ]
     },
     "execution_count": 37,
     "metadata": {},
     "output_type": "execute_result"
    }
   ],
   "source": [
    "df = df[df['max_spend']>0]\n",
    "df = df[df['CPM']>0]\n",
    "df = df[df['CPM2']>0]\n",
    "df = df[df['max_impressions']>0]\n",
    "df.shape"
   ]
  },
  {
   "cell_type": "code",
   "execution_count": 30,
   "metadata": {},
   "outputs": [],
   "source": [
    "df['CPM'] = pd.DataFrame(np.log(df['CPM']))\n",
    "df['CPM2'] = pd.DataFrame(np.log(df['CPM2']))\n",
    "df['max_spend'] = pd.DataFrame(np.log(df['max_spend']))\n",
    "df['max_impressions'] = pd.DataFrame(np.log(df['max_impressions']))"
   ]
  },
  {
   "cell_type": "code",
   "execution_count": 31,
   "metadata": {},
   "outputs": [
    {
     "data": {
      "text/plain": [
       "(31991, 38)"
      ]
     },
     "execution_count": 31,
     "metadata": {},
     "output_type": "execute_result"
    }
   ],
   "source": [
    "df = df[(np.abs(stats.zscore(df['CPM'])) < 2)]\n",
    "df = df[(np.abs(stats.zscore(df['CPM2'])) < 2)]\n",
    "df = df[(np.abs(stats.zscore(df['max_spend'])) < 2)]\n",
    "df = df[(np.abs(stats.zscore(df['max_impressions'])) < 2)]\n",
    "df.shape"
   ]
  },
  {
   "cell_type": "code",
   "execution_count": 32,
   "metadata": {},
   "outputs": [],
   "source": [
    "df['CPM'] = pd.cut(x=df['CPM'], bins=[2.0, 2.5, 3.0, 3.5, 4.0, 4.5, 5.0], labels=[0,1,2,3,4,5], ordered=True)\n",
    "df['CPM2'] = pd.cut(x=df['CPM2'], bins=[2.0, 2.5, 3.0, 3.5, 4.0, 4.5, 5.0], labels=[0,1,2,3,4,5], ordered=True)\n",
    "\n",
    "df['CPM'] = df['CPM'].astype('str')\n",
    "df['CPM2'] = df['CPM2'].astype('str')\n",
    "\n",
    "df = df[df['CPM'] != 'nan']\n",
    "df = df[df['CPM2'] != 'nan']"
   ]
  },
  {
   "cell_type": "code",
   "execution_count": 33,
   "metadata": {},
   "outputs": [
    {
     "data": {
      "text/html": [
       "<div>\n",
       "<style scoped>\n",
       "    .dataframe tbody tr th:only-of-type {\n",
       "        vertical-align: middle;\n",
       "    }\n",
       "\n",
       "    .dataframe tbody tr th {\n",
       "        vertical-align: top;\n",
       "    }\n",
       "\n",
       "    .dataframe thead th {\n",
       "        text-align: right;\n",
       "    }\n",
       "</style>\n",
       "<table border=\"1\" class=\"dataframe\">\n",
       "  <thead>\n",
       "    <tr style=\"text-align: right;\">\n",
       "      <th></th>\n",
       "      <th>search_term</th>\n",
       "      <th>country</th>\n",
       "      <th>page_id</th>\n",
       "      <th>page_name</th>\n",
       "      <th>ad_id</th>\n",
       "      <th>ad_creation_date</th>\n",
       "      <th>ad_creation_month</th>\n",
       "      <th>delivery_start</th>\n",
       "      <th>delivery_stop</th>\n",
       "      <th>delivery_period</th>\n",
       "      <th>...</th>\n",
       "      <th>max_audience_size</th>\n",
       "      <th>impressions</th>\n",
       "      <th>spend</th>\n",
       "      <th>CPM</th>\n",
       "      <th>CPM2</th>\n",
       "      <th>facebook</th>\n",
       "      <th>instagram</th>\n",
       "      <th>messenger</th>\n",
       "      <th>audience_network</th>\n",
       "      <th>demographic_dist</th>\n",
       "    </tr>\n",
       "  </thead>\n",
       "  <tbody>\n",
       "    <tr>\n",
       "      <th>0</th>\n",
       "      <td>ad-tech</td>\n",
       "      <td>US</td>\n",
       "      <td>100470349235347</td>\n",
       "      <td>Save Texas</td>\n",
       "      <td>762749274711708</td>\n",
       "      <td>2022-05-03</td>\n",
       "      <td>5</td>\n",
       "      <td>2022-05-03</td>\n",
       "      <td>2022-05-06</td>\n",
       "      <td>3</td>\n",
       "      <td>...</td>\n",
       "      <td>100000</td>\n",
       "      <td>2499.5</td>\n",
       "      <td>49.5</td>\n",
       "      <td>2</td>\n",
       "      <td>1</td>\n",
       "      <td>1</td>\n",
       "      <td>0</td>\n",
       "      <td>0</td>\n",
       "      <td>0</td>\n",
       "      <td>[{'percentage': '0.004551', 'age': '18-24', 'g...</td>\n",
       "    </tr>\n",
       "    <tr>\n",
       "      <th>1</th>\n",
       "      <td>ad-tech</td>\n",
       "      <td>US</td>\n",
       "      <td>100470349235347</td>\n",
       "      <td>Save Texas</td>\n",
       "      <td>563054608471314</td>\n",
       "      <td>2022-05-03</td>\n",
       "      <td>5</td>\n",
       "      <td>2022-05-03</td>\n",
       "      <td>2022-05-06</td>\n",
       "      <td>3</td>\n",
       "      <td>...</td>\n",
       "      <td>500000</td>\n",
       "      <td>499.5</td>\n",
       "      <td>49.5</td>\n",
       "      <td>5</td>\n",
       "      <td>5</td>\n",
       "      <td>1</td>\n",
       "      <td>0</td>\n",
       "      <td>0</td>\n",
       "      <td>0</td>\n",
       "      <td>[{'percentage': '0.003058', 'age': '45-54', 'g...</td>\n",
       "    </tr>\n",
       "    <tr>\n",
       "      <th>2</th>\n",
       "      <td>ad-tech</td>\n",
       "      <td>US</td>\n",
       "      <td>430964644347524</td>\n",
       "      <td>Campaign Ad-Cloud</td>\n",
       "      <td>930566127614072</td>\n",
       "      <td>2022-05-03</td>\n",
       "      <td>5</td>\n",
       "      <td>2022-05-03</td>\n",
       "      <td>2022-05-08</td>\n",
       "      <td>5</td>\n",
       "      <td>...</td>\n",
       "      <td>5000</td>\n",
       "      <td>1499.5</td>\n",
       "      <td>49.5</td>\n",
       "      <td>3</td>\n",
       "      <td>2</td>\n",
       "      <td>1</td>\n",
       "      <td>1</td>\n",
       "      <td>0</td>\n",
       "      <td>0</td>\n",
       "      <td>[{'percentage': '0.001969', 'age': '25-34', 'g...</td>\n",
       "    </tr>\n",
       "    <tr>\n",
       "      <th>3</th>\n",
       "      <td>ad-tech</td>\n",
       "      <td>US</td>\n",
       "      <td>143542762946146</td>\n",
       "      <td>Marcus Murphy</td>\n",
       "      <td>738864343939155</td>\n",
       "      <td>2022-04-07</td>\n",
       "      <td>4</td>\n",
       "      <td>2022-04-07</td>\n",
       "      <td>2022-04-22</td>\n",
       "      <td>15</td>\n",
       "      <td>...</td>\n",
       "      <td>50000</td>\n",
       "      <td>1499.5</td>\n",
       "      <td>49.5</td>\n",
       "      <td>3</td>\n",
       "      <td>2</td>\n",
       "      <td>1</td>\n",
       "      <td>0</td>\n",
       "      <td>0</td>\n",
       "      <td>0</td>\n",
       "      <td>[{'percentage': '0.000834', 'age': '45-54', 'g...</td>\n",
       "    </tr>\n",
       "    <tr>\n",
       "      <th>6</th>\n",
       "      <td>ad-tech</td>\n",
       "      <td>US</td>\n",
       "      <td>246491525549550</td>\n",
       "      <td>Ed Post</td>\n",
       "      <td>623648402121445</td>\n",
       "      <td>2021-11-18</td>\n",
       "      <td>11</td>\n",
       "      <td>2021-11-18</td>\n",
       "      <td>2021-11-25</td>\n",
       "      <td>7</td>\n",
       "      <td>...</td>\n",
       "      <td>NaN</td>\n",
       "      <td>2499.5</td>\n",
       "      <td>49.5</td>\n",
       "      <td>2</td>\n",
       "      <td>1</td>\n",
       "      <td>1</td>\n",
       "      <td>1</td>\n",
       "      <td>0</td>\n",
       "      <td>0</td>\n",
       "      <td>[{'percentage': '0.000634', 'age': '35-44', 'g...</td>\n",
       "    </tr>\n",
       "    <tr>\n",
       "      <th>...</th>\n",
       "      <td>...</td>\n",
       "      <td>...</td>\n",
       "      <td>...</td>\n",
       "      <td>...</td>\n",
       "      <td>...</td>\n",
       "      <td>...</td>\n",
       "      <td>...</td>\n",
       "      <td>...</td>\n",
       "      <td>...</td>\n",
       "      <td>...</td>\n",
       "      <td>...</td>\n",
       "      <td>...</td>\n",
       "      <td>...</td>\n",
       "      <td>...</td>\n",
       "      <td>...</td>\n",
       "      <td>...</td>\n",
       "      <td>...</td>\n",
       "      <td>...</td>\n",
       "      <td>...</td>\n",
       "      <td>...</td>\n",
       "      <td>...</td>\n",
       "    </tr>\n",
       "    <tr>\n",
       "      <th>38863</th>\n",
       "      <td>analytics</td>\n",
       "      <td>GB</td>\n",
       "      <td>197246230417092</td>\n",
       "      <td>Superweek - European Analytics Summit</td>\n",
       "      <td>366810920860085</td>\n",
       "      <td>2019-06-07</td>\n",
       "      <td>6</td>\n",
       "      <td>2019-06-09</td>\n",
       "      <td>2019-06-10</td>\n",
       "      <td>1</td>\n",
       "      <td>...</td>\n",
       "      <td>NaN</td>\n",
       "      <td>2499.5</td>\n",
       "      <td>49.5</td>\n",
       "      <td>2</td>\n",
       "      <td>1</td>\n",
       "      <td>1</td>\n",
       "      <td>0</td>\n",
       "      <td>0</td>\n",
       "      <td>0</td>\n",
       "      <td>[{'percentage': '0.280292', 'age': '25-34', 'g...</td>\n",
       "    </tr>\n",
       "    <tr>\n",
       "      <th>38867</th>\n",
       "      <td>analytics</td>\n",
       "      <td>BR</td>\n",
       "      <td>1445990532337716</td>\n",
       "      <td>ShareAmerica</td>\n",
       "      <td>491096738951834</td>\n",
       "      <td>2021-01-26</td>\n",
       "      <td>1</td>\n",
       "      <td>2021-01-27</td>\n",
       "      <td>2021-01-31</td>\n",
       "      <td>4</td>\n",
       "      <td>...</td>\n",
       "      <td>NaN</td>\n",
       "      <td>4499.5</td>\n",
       "      <td>49.5</td>\n",
       "      <td>1</td>\n",
       "      <td>0</td>\n",
       "      <td>1</td>\n",
       "      <td>0</td>\n",
       "      <td>0</td>\n",
       "      <td>0</td>\n",
       "      <td>[{'percentage': '0.243153', 'age': '45-54', 'g...</td>\n",
       "    </tr>\n",
       "    <tr>\n",
       "      <th>38869</th>\n",
       "      <td>analytics</td>\n",
       "      <td>BR</td>\n",
       "      <td>115255603631922</td>\n",
       "      <td>Ricardo Caminhoneiro 22310</td>\n",
       "      <td>600549173955885</td>\n",
       "      <td>2020-08-27</td>\n",
       "      <td>8</td>\n",
       "      <td>2020-08-27</td>\n",
       "      <td>2020-08-29</td>\n",
       "      <td>2</td>\n",
       "      <td>...</td>\n",
       "      <td>NaN</td>\n",
       "      <td>2499.5</td>\n",
       "      <td>49.5</td>\n",
       "      <td>2</td>\n",
       "      <td>1</td>\n",
       "      <td>1</td>\n",
       "      <td>1</td>\n",
       "      <td>1</td>\n",
       "      <td>0</td>\n",
       "      <td>[{'percentage': '0.046118', 'age': '35-44', 'g...</td>\n",
       "    </tr>\n",
       "    <tr>\n",
       "      <th>38871</th>\n",
       "      <td>analytics</td>\n",
       "      <td>BR</td>\n",
       "      <td>197246230417092</td>\n",
       "      <td>Superweek - European Analytics Summit</td>\n",
       "      <td>1409280549253390</td>\n",
       "      <td>2019-06-07</td>\n",
       "      <td>6</td>\n",
       "      <td>2019-06-09</td>\n",
       "      <td>2019-06-11</td>\n",
       "      <td>2</td>\n",
       "      <td>...</td>\n",
       "      <td>NaN</td>\n",
       "      <td>499.5</td>\n",
       "      <td>49.5</td>\n",
       "      <td>5</td>\n",
       "      <td>5</td>\n",
       "      <td>1</td>\n",
       "      <td>0</td>\n",
       "      <td>0</td>\n",
       "      <td>0</td>\n",
       "      <td>[{'percentage': '0.395973', 'age': '25-34', 'g...</td>\n",
       "    </tr>\n",
       "    <tr>\n",
       "      <th>38873</th>\n",
       "      <td>analytics</td>\n",
       "      <td>BR</td>\n",
       "      <td>197246230417092</td>\n",
       "      <td>Superweek - European Analytics Summit</td>\n",
       "      <td>366810920860085</td>\n",
       "      <td>2019-06-07</td>\n",
       "      <td>6</td>\n",
       "      <td>2019-06-09</td>\n",
       "      <td>2019-06-10</td>\n",
       "      <td>1</td>\n",
       "      <td>...</td>\n",
       "      <td>NaN</td>\n",
       "      <td>2499.5</td>\n",
       "      <td>49.5</td>\n",
       "      <td>2</td>\n",
       "      <td>1</td>\n",
       "      <td>1</td>\n",
       "      <td>0</td>\n",
       "      <td>0</td>\n",
       "      <td>0</td>\n",
       "      <td>[{'percentage': '0.280292', 'age': '25-34', 'g...</td>\n",
       "    </tr>\n",
       "  </tbody>\n",
       "</table>\n",
       "<p>31981 rows × 38 columns</p>\n",
       "</div>"
      ],
      "text/plain": [
       "      search_term country           page_id  \\\n",
       "0         ad-tech      US   100470349235347   \n",
       "1         ad-tech      US   100470349235347   \n",
       "2         ad-tech      US   430964644347524   \n",
       "3         ad-tech      US   143542762946146   \n",
       "6         ad-tech      US   246491525549550   \n",
       "...           ...     ...               ...   \n",
       "38863   analytics      GB   197246230417092   \n",
       "38867   analytics      BR  1445990532337716   \n",
       "38869   analytics      BR   115255603631922   \n",
       "38871   analytics      BR   197246230417092   \n",
       "38873   analytics      BR   197246230417092   \n",
       "\n",
       "                                   page_name             ad_id  \\\n",
       "0                                 Save Texas   762749274711708   \n",
       "1                                 Save Texas   563054608471314   \n",
       "2                          Campaign Ad-Cloud   930566127614072   \n",
       "3                              Marcus Murphy   738864343939155   \n",
       "6                                    Ed Post   623648402121445   \n",
       "...                                      ...               ...   \n",
       "38863  Superweek - European Analytics Summit   366810920860085   \n",
       "38867                           ShareAmerica   491096738951834   \n",
       "38869             Ricardo Caminhoneiro 22310   600549173955885   \n",
       "38871  Superweek - European Analytics Summit  1409280549253390   \n",
       "38873  Superweek - European Analytics Summit   366810920860085   \n",
       "\n",
       "      ad_creation_date  ad_creation_month delivery_start delivery_stop  \\\n",
       "0           2022-05-03                  5     2022-05-03    2022-05-06   \n",
       "1           2022-05-03                  5     2022-05-03    2022-05-06   \n",
       "2           2022-05-03                  5     2022-05-03    2022-05-08   \n",
       "3           2022-04-07                  4     2022-04-07    2022-04-22   \n",
       "6           2021-11-18                 11     2021-11-18    2021-11-25   \n",
       "...                ...                ...            ...           ...   \n",
       "38863       2019-06-07                  6     2019-06-09    2019-06-10   \n",
       "38867       2021-01-26                  1     2021-01-27    2021-01-31   \n",
       "38869       2020-08-27                  8     2020-08-27    2020-08-29   \n",
       "38871       2019-06-07                  6     2019-06-09    2019-06-11   \n",
       "38873       2019-06-07                  6     2019-06-09    2019-06-10   \n",
       "\n",
       "       delivery_period  ... max_audience_size impressions  spend CPM  CPM2  \\\n",
       "0                    3  ...            100000      2499.5   49.5   2     1   \n",
       "1                    3  ...            500000       499.5   49.5   5     5   \n",
       "2                    5  ...              5000      1499.5   49.5   3     2   \n",
       "3                   15  ...             50000      1499.5   49.5   3     2   \n",
       "6                    7  ...               NaN      2499.5   49.5   2     1   \n",
       "...                ...  ...               ...         ...    ...  ..   ...   \n",
       "38863                1  ...               NaN      2499.5   49.5   2     1   \n",
       "38867                4  ...               NaN      4499.5   49.5   1     0   \n",
       "38869                2  ...               NaN      2499.5   49.5   2     1   \n",
       "38871                2  ...               NaN       499.5   49.5   5     5   \n",
       "38873                1  ...               NaN      2499.5   49.5   2     1   \n",
       "\n",
       "      facebook  instagram messenger  audience_network  \\\n",
       "0            1          0         0                 0   \n",
       "1            1          0         0                 0   \n",
       "2            1          1         0                 0   \n",
       "3            1          0         0                 0   \n",
       "6            1          1         0                 0   \n",
       "...        ...        ...       ...               ...   \n",
       "38863        1          0         0                 0   \n",
       "38867        1          0         0                 0   \n",
       "38869        1          1         1                 0   \n",
       "38871        1          0         0                 0   \n",
       "38873        1          0         0                 0   \n",
       "\n",
       "                                        demographic_dist  \n",
       "0      [{'percentage': '0.004551', 'age': '18-24', 'g...  \n",
       "1      [{'percentage': '0.003058', 'age': '45-54', 'g...  \n",
       "2      [{'percentage': '0.001969', 'age': '25-34', 'g...  \n",
       "3      [{'percentage': '0.000834', 'age': '45-54', 'g...  \n",
       "6      [{'percentage': '0.000634', 'age': '35-44', 'g...  \n",
       "...                                                  ...  \n",
       "38863  [{'percentage': '0.280292', 'age': '25-34', 'g...  \n",
       "38867  [{'percentage': '0.243153', 'age': '45-54', 'g...  \n",
       "38869  [{'percentage': '0.046118', 'age': '35-44', 'g...  \n",
       "38871  [{'percentage': '0.395973', 'age': '25-34', 'g...  \n",
       "38873  [{'percentage': '0.280292', 'age': '25-34', 'g...  \n",
       "\n",
       "[31981 rows x 38 columns]"
      ]
     },
     "execution_count": 33,
     "metadata": {},
     "output_type": "execute_result"
    }
   ],
   "source": [
    "df"
   ]
  },
  {
   "cell_type": "code",
   "execution_count": 34,
   "metadata": {},
   "outputs": [
    {
     "data": {
      "text/plain": [
       "count     31981\n",
       "unique        6\n",
       "top           5\n",
       "freq      20356\n",
       "Name: CPM2, dtype: object"
      ]
     },
     "execution_count": 34,
     "metadata": {},
     "output_type": "execute_result"
    }
   ],
   "source": [
    "df['CPM2'].describe()"
   ]
  },
  {
   "cell_type": "code",
   "execution_count": 35,
   "metadata": {},
   "outputs": [
    {
     "name": "stderr",
     "output_type": "stream",
     "text": [
      "C:\\Users\\root\\anaconda3\\lib\\site-packages\\seaborn\\_decorators.py:36: FutureWarning: Pass the following variable as a keyword arg: x. From version 0.12, the only valid positional argument will be `data`, and passing other arguments without an explicit keyword will result in an error or misinterpretation.\n",
      "  warnings.warn(\n"
     ]
    },
    {
     "data": {
      "text/plain": [
       "<AxesSubplot:xlabel='CPM', ylabel='count'>"
      ]
     },
     "execution_count": 35,
     "metadata": {},
     "output_type": "execute_result"
    },
    {
     "data": {
      "image/png": "[encoded data removed]",
      "text/plain": [
       "<Figure size 1728x864 with 1 Axes>"
      ]
     },
     "metadata": {
      "needs_background": "light"
     },
     "output_type": "display_data"
    }
   ],
   "source": [
    "import matplotlib.pyplot as plt\n",
    "import seaborn as sb\n",
    "f, axes = plt.subplots(1, 1, figsize=(24, 12))\n",
    "# sb.boxplot(data = df['CPM'].value_counts(), orient = \"h\", ax = axes[0])\n",
    "# sb.histplot(data = df['CPM'].value_counts(), ax = axes[1])\n",
    "# sb.violinplot(data = df['CPM'].value_counts(), orient = \"h\", ax = axes[2])\n",
    "sb.countplot(df['CPM'])"
   ]
  },
  {
   "cell_type": "code",
   "execution_count": 36,
   "metadata": {},
   "outputs": [
    {
     "name": "stderr",
     "output_type": "stream",
     "text": [
      "C:\\Users\\root\\anaconda3\\lib\\site-packages\\seaborn\\_decorators.py:36: FutureWarning: Pass the following variable as a keyword arg: x. From version 0.12, the only valid positional argument will be `data`, and passing other arguments without an explicit keyword will result in an error or misinterpretation.\n",
      "  warnings.warn(\n"
     ]
    },
    {
     "data": {
      "text/plain": [
       "<AxesSubplot:xlabel='CPM2', ylabel='count'>"
      ]
     },
     "execution_count": 36,
     "metadata": {},
     "output_type": "execute_result"
    },
    {
     "data": {
      "image/png": "[encoded data removed]",
      "text/plain": [
       "<Figure size 1728x864 with 1 Axes>"
      ]
     },
     "metadata": {
      "needs_background": "light"
     },
     "output_type": "display_data"
    }
   ],
   "source": [
    "import matplotlib.pyplot as plt\n",
    "import seaborn as sb\n",
    "f, axes = plt.subplots(1, 1, figsize=(24, 12))\n",
    "# sb.boxplot(data = df['CPM'].value_counts(), orient = \"h\", ax = axes[0])\n",
    "# sb.histplot(data = df['CPM'].value_counts(), ax = axes[1])\n",
    "# sb.violinplot(data = df['CPM'].value_counts(), orient = \"h\", ax = axes[2])\n",
    "sb.countplot(df['CPM2'])"
   ]
  },
  {
   "cell_type": "code",
   "execution_count": null,
   "metadata": {},
   "outputs": [],
   "source": [
    "# f, axes = plt.subplots(1, 3, figsize=(24, 12))\n",
    "# sb.boxplot(data = df['CPM2'], orient = \"h\", ax = axes[0])\n",
    "# sb.histplot(data = df['CPM2'], ax = axes[1])\n",
    "# sb.violinplot(data = df['CPM2'], orient = \"h\", ax = axes[2])"
   ]
  },
  {
   "cell_type": "code",
   "execution_count": null,
   "metadata": {},
   "outputs": [],
   "source": [
    "# f, axes = plt.subplots(1, 3, figsize=(24, 12))\n",
    "# sb.boxplot(data = df['max_spend'], orient = \"h\", ax = axes[0])\n",
    "# sb.histplot(data = df['max_spend'], ax = axes[1])\n",
    "# sb.violinplot(data = df['max_spend'], orient = \"h\", ax = axes[2])"
   ]
  },
  {
   "cell_type": "code",
   "execution_count": null,
   "metadata": {},
   "outputs": [],
   "source": [
    "f, axes = plt.subplots(1, 3, figsize=(24, 12))\n",
    "sb.boxplot(data = df['max_impressions'], orient = \"h\", ax = axes[0])\n",
    "sb.histplot(data = df['max_impressions'], ax = axes[1])\n",
    "sb.violinplot(data = df['max_impressions'], orient = \"h\", ax = axes[2])"
   ]
  },
  {
   "cell_type": "code",
   "execution_count": 37,
   "metadata": {},
   "outputs": [
    {
     "data": {
      "text/plain": [
       "str"
      ]
     },
     "execution_count": 37,
     "metadata": {},
     "output_type": "execute_result"
    }
   ],
   "source": [
    "type(df['CPM2'].iloc[0])"
   ]
  },
  {
   "cell_type": "code",
   "execution_count": null,
   "metadata": {},
   "outputs": [],
   "source": []
  },
  {
   "cell_type": "markdown",
   "metadata": {},
   "source": [
    "# Modelling\n"
   ]
  },
  {
   "cell_type": "code",
   "execution_count": 38,
   "metadata": {},
   "outputs": [
    {
     "data": {
      "text/plain": [
       "0"
      ]
     },
     "execution_count": 38,
     "metadata": {},
     "output_type": "execute_result"
    }
   ],
   "source": [
    "sum(df['delivery_period'].isna())"
   ]
  },
  {
   "cell_type": "code",
   "execution_count": 25,
   "metadata": {
    "collapsed": true
   },
   "outputs": [
    {
     "name": "stdout",
     "output_type": "stream",
     "text": [
      "SHAPE\n",
      "(25592, 2)\n",
      "(6399, 2)\n",
      "(25592, 1)\n",
      "(6399, 1)\n"
     ]
    },
    {
     "ename": "ValueError",
     "evalue": "could not convert string to float: '(4.5, 5.0]'",
     "output_type": "error",
     "traceback": [
      "\u001b[1;31m---------------------------------------------------------------------------\u001b[0m",
      "\u001b[1;31mValueError\u001b[0m                                Traceback (most recent call last)",
      "\u001b[1;32m<ipython-input-25-e63672285a2a>\u001b[0m in \u001b[0;36m<module>\u001b[1;34m\u001b[0m\n\u001b[0;32m     26\u001b[0m \u001b[1;33m\u001b[0m\u001b[0m\n\u001b[0;32m     27\u001b[0m \u001b[0mmodel\u001b[0m \u001b[1;33m=\u001b[0m \u001b[0mLinearRegression\u001b[0m\u001b[1;33m(\u001b[0m\u001b[1;33m)\u001b[0m\u001b[1;33m\u001b[0m\u001b[1;33m\u001b[0m\u001b[0m\n\u001b[1;32m---> 28\u001b[1;33m \u001b[0mmodel\u001b[0m\u001b[1;33m.\u001b[0m\u001b[0mfit\u001b[0m\u001b[1;33m(\u001b[0m\u001b[0mX_train\u001b[0m\u001b[1;33m,\u001b[0m \u001b[0my_train\u001b[0m\u001b[1;33m)\u001b[0m\u001b[1;33m\u001b[0m\u001b[1;33m\u001b[0m\u001b[0m\n\u001b[0m\u001b[0;32m     29\u001b[0m \u001b[0my_train_pred\u001b[0m \u001b[1;33m=\u001b[0m \u001b[0mmodel\u001b[0m\u001b[1;33m.\u001b[0m\u001b[0mpredict\u001b[0m\u001b[1;33m(\u001b[0m\u001b[0mX_train\u001b[0m\u001b[1;33m)\u001b[0m\u001b[1;33m\u001b[0m\u001b[1;33m\u001b[0m\u001b[0m\n\u001b[0;32m     30\u001b[0m \u001b[0my_test_pred\u001b[0m \u001b[1;33m=\u001b[0m \u001b[0mmodel\u001b[0m\u001b[1;33m.\u001b[0m\u001b[0mpredict\u001b[0m\u001b[1;33m(\u001b[0m\u001b[0mX_test\u001b[0m\u001b[1;33m)\u001b[0m\u001b[1;33m\u001b[0m\u001b[1;33m\u001b[0m\u001b[0m\n",
      "\u001b[1;32m~\\anaconda3\\lib\\site-packages\\sklearn\\linear_model\\_base.py\u001b[0m in \u001b[0;36mfit\u001b[1;34m(self, X, y, sample_weight)\u001b[0m\n\u001b[0;32m    503\u001b[0m \u001b[1;33m\u001b[0m\u001b[0m\n\u001b[0;32m    504\u001b[0m         \u001b[0mn_jobs_\u001b[0m \u001b[1;33m=\u001b[0m \u001b[0mself\u001b[0m\u001b[1;33m.\u001b[0m\u001b[0mn_jobs\u001b[0m\u001b[1;33m\u001b[0m\u001b[1;33m\u001b[0m\u001b[0m\n\u001b[1;32m--> 505\u001b[1;33m         X, y = self._validate_data(X, y, accept_sparse=['csr', 'csc', 'coo'],\n\u001b[0m\u001b[0;32m    506\u001b[0m                                    y_numeric=True, multi_output=True)\n\u001b[0;32m    507\u001b[0m \u001b[1;33m\u001b[0m\u001b[0m\n",
      "\u001b[1;32m~\\anaconda3\\lib\\site-packages\\sklearn\\base.py\u001b[0m in \u001b[0;36m_validate_data\u001b[1;34m(self, X, y, reset, validate_separately, **check_params)\u001b[0m\n\u001b[0;32m    430\u001b[0m                 \u001b[0my\u001b[0m \u001b[1;33m=\u001b[0m \u001b[0mcheck_array\u001b[0m\u001b[1;33m(\u001b[0m\u001b[0my\u001b[0m\u001b[1;33m,\u001b[0m \u001b[1;33m**\u001b[0m\u001b[0mcheck_y_params\u001b[0m\u001b[1;33m)\u001b[0m\u001b[1;33m\u001b[0m\u001b[1;33m\u001b[0m\u001b[0m\n\u001b[0;32m    431\u001b[0m             \u001b[1;32melse\u001b[0m\u001b[1;33m:\u001b[0m\u001b[1;33m\u001b[0m\u001b[1;33m\u001b[0m\u001b[0m\n\u001b[1;32m--> 432\u001b[1;33m                 \u001b[0mX\u001b[0m\u001b[1;33m,\u001b[0m \u001b[0my\u001b[0m \u001b[1;33m=\u001b[0m \u001b[0mcheck_X_y\u001b[0m\u001b[1;33m(\u001b[0m\u001b[0mX\u001b[0m\u001b[1;33m,\u001b[0m \u001b[0my\u001b[0m\u001b[1;33m,\u001b[0m \u001b[1;33m**\u001b[0m\u001b[0mcheck_params\u001b[0m\u001b[1;33m)\u001b[0m\u001b[1;33m\u001b[0m\u001b[1;33m\u001b[0m\u001b[0m\n\u001b[0m\u001b[0;32m    433\u001b[0m             \u001b[0mout\u001b[0m \u001b[1;33m=\u001b[0m \u001b[0mX\u001b[0m\u001b[1;33m,\u001b[0m \u001b[0my\u001b[0m\u001b[1;33m\u001b[0m\u001b[1;33m\u001b[0m\u001b[0m\n\u001b[0;32m    434\u001b[0m \u001b[1;33m\u001b[0m\u001b[0m\n",
      "\u001b[1;32m~\\anaconda3\\lib\\site-packages\\sklearn\\utils\\validation.py\u001b[0m in \u001b[0;36minner_f\u001b[1;34m(*args, **kwargs)\u001b[0m\n\u001b[0;32m     70\u001b[0m                           FutureWarning)\n\u001b[0;32m     71\u001b[0m         \u001b[0mkwargs\u001b[0m\u001b[1;33m.\u001b[0m\u001b[0mupdate\u001b[0m\u001b[1;33m(\u001b[0m\u001b[1;33m{\u001b[0m\u001b[0mk\u001b[0m\u001b[1;33m:\u001b[0m \u001b[0marg\u001b[0m \u001b[1;32mfor\u001b[0m \u001b[0mk\u001b[0m\u001b[1;33m,\u001b[0m \u001b[0marg\u001b[0m \u001b[1;32min\u001b[0m \u001b[0mzip\u001b[0m\u001b[1;33m(\u001b[0m\u001b[0msig\u001b[0m\u001b[1;33m.\u001b[0m\u001b[0mparameters\u001b[0m\u001b[1;33m,\u001b[0m \u001b[0margs\u001b[0m\u001b[1;33m)\u001b[0m\u001b[1;33m}\u001b[0m\u001b[1;33m)\u001b[0m\u001b[1;33m\u001b[0m\u001b[1;33m\u001b[0m\u001b[0m\n\u001b[1;32m---> 72\u001b[1;33m         \u001b[1;32mreturn\u001b[0m \u001b[0mf\u001b[0m\u001b[1;33m(\u001b[0m\u001b[1;33m**\u001b[0m\u001b[0mkwargs\u001b[0m\u001b[1;33m)\u001b[0m\u001b[1;33m\u001b[0m\u001b[1;33m\u001b[0m\u001b[0m\n\u001b[0m\u001b[0;32m     73\u001b[0m     \u001b[1;32mreturn\u001b[0m \u001b[0minner_f\u001b[0m\u001b[1;33m\u001b[0m\u001b[1;33m\u001b[0m\u001b[0m\n\u001b[0;32m     74\u001b[0m \u001b[1;33m\u001b[0m\u001b[0m\n",
      "\u001b[1;32m~\\anaconda3\\lib\\site-packages\\sklearn\\utils\\validation.py\u001b[0m in \u001b[0;36mcheck_X_y\u001b[1;34m(X, y, accept_sparse, accept_large_sparse, dtype, order, copy, force_all_finite, ensure_2d, allow_nd, multi_output, ensure_min_samples, ensure_min_features, y_numeric, estimator)\u001b[0m\n\u001b[0;32m    808\u001b[0m         \u001b[0m_assert_all_finite\u001b[0m\u001b[1;33m(\u001b[0m\u001b[0my\u001b[0m\u001b[1;33m)\u001b[0m\u001b[1;33m\u001b[0m\u001b[1;33m\u001b[0m\u001b[0m\n\u001b[0;32m    809\u001b[0m     \u001b[1;32mif\u001b[0m \u001b[0my_numeric\u001b[0m \u001b[1;32mand\u001b[0m \u001b[0my\u001b[0m\u001b[1;33m.\u001b[0m\u001b[0mdtype\u001b[0m\u001b[1;33m.\u001b[0m\u001b[0mkind\u001b[0m \u001b[1;33m==\u001b[0m \u001b[1;34m'O'\u001b[0m\u001b[1;33m:\u001b[0m\u001b[1;33m\u001b[0m\u001b[1;33m\u001b[0m\u001b[0m\n\u001b[1;32m--> 810\u001b[1;33m         \u001b[0my\u001b[0m \u001b[1;33m=\u001b[0m \u001b[0my\u001b[0m\u001b[1;33m.\u001b[0m\u001b[0mastype\u001b[0m\u001b[1;33m(\u001b[0m\u001b[0mnp\u001b[0m\u001b[1;33m.\u001b[0m\u001b[0mfloat64\u001b[0m\u001b[1;33m)\u001b[0m\u001b[1;33m\u001b[0m\u001b[1;33m\u001b[0m\u001b[0m\n\u001b[0m\u001b[0;32m    811\u001b[0m \u001b[1;33m\u001b[0m\u001b[0m\n\u001b[0;32m    812\u001b[0m     \u001b[0mcheck_consistent_length\u001b[0m\u001b[1;33m(\u001b[0m\u001b[0mX\u001b[0m\u001b[1;33m,\u001b[0m \u001b[0my\u001b[0m\u001b[1;33m)\u001b[0m\u001b[1;33m\u001b[0m\u001b[1;33m\u001b[0m\u001b[0m\n",
      "\u001b[1;31mValueError\u001b[0m: could not convert string to float: '(4.5, 5.0]'"
     ]
    },
    {
     "data": {
      "image/png": "[encoded data removed]",
      "text/plain": [
       "<Figure size 864x576 with 2 Axes>"
      ]
     },
     "metadata": {
      "needs_background": "light"
     },
     "output_type": "display_data"
    },
    {
     "data": {
      "image/png": "[encoded data removed]",
      "text/plain": [
       "<Figure size 360x360 with 6 Axes>"
      ]
     },
     "metadata": {
      "needs_background": "light"
     },
     "output_type": "display_data"
    }
   ],
   "source": [
    "import matplotlib.pyplot as plt\n",
    "import seaborn as sb\n",
    "\n",
    "predictor=['ad_creation_month', 'delivery_period']\n",
    "target=['CPM2']\n",
    "\n",
    "X = df[predictor]\n",
    "y = df[target]\n",
    "\n",
    "DF = pd.concat([y, X], axis = 1).reindex(y.index)\n",
    "\n",
    "f = plt.figure(figsize=(12, 8))\n",
    "sb.heatmap(DF.corr(), vmin = -1, vmax = 1, annot = True, fmt = \".2f\")\n",
    "\n",
    "sb.pairplot(data = DF)\n",
    "\n",
    "from sklearn.model_selection import train_test_split\n",
    "from sklearn.linear_model import LinearRegression\n",
    "\n",
    "X_train, X_test, y_train, y_test = train_test_split(X, y, test_size=0.2)\n",
    "print('SHAPE')\n",
    "print(X_train.shape)\n",
    "print(X_test.shape)\n",
    "print(y_train.shape)\n",
    "print(y_test.shape)\n",
    "\n",
    "model = LinearRegression()\n",
    "model.fit(X_train, y_train)\n",
    "y_train_pred = model.predict(X_train)\n",
    "y_test_pred = model.predict(X_test)\n",
    "\n",
    "from sklearn.metrics import mean_squared_error\n",
    "\n",
    "print()\n",
    "print(\"REPORT\")\n",
    "print(mean_squared_error(y_train, y_train_pred))\n",
    "print(mean_squared_error(y_test, y_test_pred))"
   ]
  },
  {
   "cell_type": "code",
   "execution_count": null,
   "metadata": {},
   "outputs": [],
   "source": [
    "df.columns"
   ]
  },
  {
   "cell_type": "code",
   "execution_count": null,
   "metadata": {},
   "outputs": [],
   "source": [
    "df.dtypes"
   ]
  },
  {
   "cell_type": "markdown",
   "metadata": {},
   "source": [
    "### XGB"
   ]
  },
  {
   "cell_type": "code",
   "execution_count": 40,
   "metadata": {},
   "outputs": [
    {
     "name": "stdout",
     "output_type": "stream",
     "text": [
      "SHAPE\n",
      "(25584, 2)\n",
      "(6397, 2)\n",
      "(25584, 1)\n",
      "(6397, 1)\n",
      "[10:20:22] WARNING: ..\\src\\learner.cc:1095: Starting in XGBoost 1.3.0, the default evaluation metric used with the objective 'multi:softprob' was changed from 'merror' to 'mlogloss'. Explicitly set eval_metric if you'd like to restore the old behavior.\n",
      "\n",
      "REPORT\n",
      "Train accuracy 0.6513836772983115\n",
      "Test accuracy 0.6412380803501642\n"
     ]
    },
    {
     "name": "stderr",
     "output_type": "stream",
     "text": [
      "C:\\Users\\root\\anaconda3\\lib\\site-packages\\xgboost\\data.py:112: UserWarning: Use subset (sliced data) of np.ndarray is not recommended because it will generate extra copies and increase memory consumption\n",
      "  warnings.warn(\n"
     ]
    }
   ],
   "source": [
    "predictor=['ad_creation_month', 'delivery_period']\n",
    "\n",
    "from sklearn.preprocessing import OneHotEncoder, LabelBinarizer\n",
    "target=['CPM2']\n",
    "\n",
    "X = df[predictor]\n",
    "y = df[target]\n",
    "\n",
    "y = y.astype('int64')\n",
    "\n",
    "# y = LabelBinarizer().fit_transform(y)\n",
    "\n",
    "# DF = pd.concat([y, X], axis = 1).reindex(y.index)\n",
    "\n",
    "# f = plt.figure(figsize=(12, 8))\n",
    "# sb.heatmap(DF.corr(), vmin = -1, vmax = 1, annot = True, fmt = \".2f\")\n",
    "\n",
    "# sb.pairplot(data = DF)\n",
    "from sklearn.model_selection import train_test_split\n",
    "\n",
    "X_train, X_test, y_train, y_test = train_test_split(X, y, test_size=0.2)\n",
    "print('SHAPE')\n",
    "print(X_train.shape)\n",
    "print(X_test.shape)\n",
    "print(y_train.shape)\n",
    "print(y_test.shape)\n",
    "xgb = XGBClassifier(n_estimators=100, use_label_encoder=False)\n",
    "xgb.fit(X_train, y_train)\n",
    "y_train_pred = xgb.predict(X_train)\n",
    "y_test_pred = xgb.predict(X_test)\n",
    "\n",
    "from sklearn.metrics import mean_squared_error, accuracy_score\n",
    "\n",
    "print()\n",
    "print(\"REPORT\")\n",
    "print(\"Train accuracy\", accuracy_score(y_train, y_train_pred))\n",
    "print(\"Test accuracy\", accuracy_score(y_test, y_test_pred))"
   ]
  },
  {
   "cell_type": "code",
   "execution_count": 41,
   "metadata": {},
   "outputs": [
    {
     "data": {
      "text/plain": [
       "CPM2\n",
       "5       20356\n",
       "2        4962\n",
       "1        4013\n",
       "0        2009\n",
       "3         483\n",
       "4         158\n",
       "dtype: int64"
      ]
     },
     "execution_count": 41,
     "metadata": {},
     "output_type": "execute_result"
    }
   ],
   "source": [
    "y.value_counts()"
   ]
  },
  {
   "cell_type": "code",
   "execution_count": 42,
   "metadata": {},
   "outputs": [
    {
     "data": {
      "text/plain": [
       "CPM2\n",
       "5       16296\n",
       "2        3986\n",
       "1        3185\n",
       "0        1599\n",
       "3         387\n",
       "4         131\n",
       "dtype: int64"
      ]
     },
     "execution_count": 42,
     "metadata": {},
     "output_type": "execute_result"
    }
   ],
   "source": [
    "y_train.value_counts()"
   ]
  },
  {
   "cell_type": "code",
   "execution_count": null,
   "metadata": {},
   "outputs": [],
   "source": []
  },
  {
   "cell_type": "code",
   "execution_count": 47,
   "metadata": {},
   "outputs": [
    {
     "name": "stdout",
     "output_type": "stream",
     "text": [
      "SHAPE\n",
      "(25584, 4)\n",
      "(6397, 4)\n",
      "(25584, 1)\n",
      "(6397, 1)\n",
      "0:\tlearn: 1.6178202\ttest: 1.6211563\tbest: 1.6211563 (0)\ttotal: 50.4ms\tremaining: 202ms\n",
      "1:\tlearn: 1.5032753\ttest: 1.5084670\tbest: 1.5084670 (1)\ttotal: 98.2ms\tremaining: 147ms\n",
      "2:\tlearn: 1.4212003\ttest: 1.4281742\tbest: 1.4281742 (2)\ttotal: 178ms\tremaining: 119ms\n",
      "3:\tlearn: 1.3584998\ttest: 1.3670501\tbest: 1.3670501 (3)\ttotal: 250ms\tremaining: 62.4ms\n",
      "4:\tlearn: 1.3087033\ttest: 1.3184110\tbest: 1.3184110 (4)\ttotal: 362ms\tremaining: 0us\n",
      "\n",
      "bestTest = 1.318411043\n",
      "bestIteration = 4\n",
      "\n",
      "\n",
      "REPORT\n",
      "Accuracy score:\n",
      "0.6381722951844903\n",
      "0.6309207440987963\n",
      "\n",
      "              precision    recall  f1-score   support\n",
      "\n",
      "           0       0.00      0.00      0.00       428\n",
      "           1       0.00      0.00      0.00       802\n",
      "           2       0.00      0.00      0.00      1004\n",
      "           3       0.00      0.00      0.00        92\n",
      "           4       0.00      0.00      0.00        35\n",
      "           5       0.63      1.00      0.77      4036\n",
      "\n",
      "    accuracy                           0.63      6397\n",
      "   macro avg       0.11      0.17      0.13      6397\n",
      "weighted avg       0.40      0.63      0.49      6397\n",
      "\n"
     ]
    },
    {
     "name": "stderr",
     "output_type": "stream",
     "text": [
      "C:\\Users\\root\\anaconda3\\lib\\site-packages\\sklearn\\metrics\\_classification.py:1221: UndefinedMetricWarning: Precision and F-score are ill-defined and being set to 0.0 in labels with no predicted samples. Use `zero_division` parameter to control this behavior.\n",
      "  _warn_prf(average, modifier, msg_start, len(result))\n"
     ]
    }
   ],
   "source": [
    "from catboost import CatBoostClassifier\n",
    "\n",
    "predictor=['search_term', 'country', 'ad_creation_month', 'delivery_period']\n",
    "target=['CPM2']\n",
    "\n",
    "X = df[predictor]\n",
    "y = df[target]\n",
    "\n",
    "# DF = pd.concat([y, X], axis = 1).reindex(y.index)\n",
    "\n",
    "# f = plt.figure(figsize=(12, 8))\n",
    "# sb.heatmap(DF.corr(), vmin = -1, vmax = 1, annot = True, fmt = \".2f\")\n",
    "\n",
    "# sb.pairplot(data = DF)\n",
    "\n",
    "X_train, X_test, y_train, y_test = train_test_split(X, y, test_size=0.2)\n",
    "print('SHAPE')\n",
    "print(X_train.shape)\n",
    "print(X_test.shape)\n",
    "print(y_train.shape)\n",
    "print(y_test.shape)\n",
    "\n",
    "clf = CatBoostClassifier(\n",
    "    iterations=5, \n",
    "    learning_rate=0.1, \n",
    "    #loss_function='CrossEntropy'\n",
    ")\n",
    "\n",
    "cat_features = ['search_term', 'country']\n",
    "\n",
    "clf.fit(X_train, y_train, \n",
    "        cat_features=cat_features, \n",
    "        eval_set=(X_test, y_test), \n",
    "        verbose=True\n",
    ")\n",
    "\n",
    "\n",
    "\n",
    "y_train_pred = clf.predict(X_train)\n",
    "y_test_pred = clf.predict(X_test)\n",
    "\n",
    "from sklearn.metrics import mean_squared_error, accuracy_score, classification_report, roc_auc_score\n",
    "\n",
    "print()\n",
    "print(\"REPORT\")\n",
    "print('Accuracy score:')\n",
    "print(accuracy_score(y_train, y_train_pred))\n",
    "print(accuracy_score(y_test, y_test_pred))\n",
    "# print()\n",
    "# print('Roc auc score:')\n",
    "# print(roc_auc_score(y_train, clf.predict_proba(X_train), multi_class=\"ovr\"))\n",
    "# print(roc_auc_score(y_test, clf.predict_proba(X_test), multi_class=\"ovr\"))\n",
    "print()\n",
    "print(classification_report(y_test, y_test_pred))"
   ]
  },
  {
   "cell_type": "code",
   "execution_count": null,
   "metadata": {},
   "outputs": [],
   "source": [
    "from catboost import CatBoostClassifier\n",
    "\n",
    "predictor=['search_term', 'country', 'ad_creation_month', 'delivery_period']\n",
    "target=['CPM']\n",
    "\n",
    "X = df[predictor]\n",
    "y = df[target]\n",
    "\n",
    "# DF = pd.concat([y, X], axis = 1).reindex(y.index)\n",
    "\n",
    "# f = plt.figure(figsize=(12, 8))\n",
    "# sb.heatmap(DF.corr(), vmin = -1, vmax = 1, annot = True, fmt = \".2f\")\n",
    "\n",
    "# sb.pairplot(data = DF)\n",
    "\n",
    "X_train, X_test, y_train, y_test = train_test_split(X, y, test_size=0.2)\n",
    "print('SHAPE')\n",
    "print(X_train.shape)\n",
    "print(X_test.shape)\n",
    "print(y_train.shape)\n",
    "print(y_test.shape)\n",
    "\n",
    "clf = CatBoostClassifier(\n",
    "    iterations=5, \n",
    "    learning_rate=0.1, \n",
    "    #loss_function='CrossEntropy'\n",
    ")\n",
    "\n",
    "cat_features = ['search_term', 'country']\n",
    "\n",
    "clf.fit(X_train, y_train, \n",
    "        cat_features=cat_features, \n",
    "        eval_set=(X_test, y_test), \n",
    "        verbose=True\n",
    ")\n",
    "\n",
    "\n",
    "\n",
    "y_train_pred = clf.predict(X_train)\n",
    "y_test_pred = clf.predict(X_test)\n",
    "\n",
    "from sklearn.metrics import mean_squared_error, accuracy_score\n",
    "\n",
    "print()\n",
    "print(\"REPORT\")\n",
    "print(accuracy_score(y_train, y_train_pred))\n",
    "print(accuracy_score(y_test, y_test_pred))"
   ]
  },
  {
   "cell_type": "code",
   "execution_count": 48,
   "metadata": {},
   "outputs": [],
   "source": [
    "df2 = df"
   ]
  },
  {
   "cell_type": "code",
   "execution_count": 51,
   "metadata": {},
   "outputs": [
    {
     "data": {
      "text/plain": [
       "Index(['search_term', 'country', 'page_id', 'page_name', 'ad_id',\n",
       "       'ad_creation_date', 'ad_creation_month', 'delivery_start',\n",
       "       'delivery_stop', 'delivery_period', 'ad_url', 'ad_body',\n",
       "       'uses_multi_body', 'link_caption', 'uses_multi_capt', 'link_title',\n",
       "       'uses_multi_title', 'link_description', 'uses_multi_desc', 'language',\n",
       "       'uses_multi_lang', 'funded_by', 'currency', 'min_spend', 'max_spend',\n",
       "       'min_impressions', 'max_impressions', 'min_audience_size',\n",
       "       'max_audience_size', 'impressions', 'spend', 'CPM', 'CPM2', 'facebook',\n",
       "       'instagram', 'messenger', 'audience_network', 'demographic_dist'],\n",
       "      dtype='object')"
      ]
     },
     "execution_count": 51,
     "metadata": {},
     "output_type": "execute_result"
    }
   ],
   "source": [
    "df2.columns"
   ]
  },
  {
   "cell_type": "code",
   "execution_count": 52,
   "metadata": {},
   "outputs": [
    {
     "data": {
      "text/plain": [
       "search_term                                                    ad-tech\n",
       "country                                                             US\n",
       "page_id                                                100470349235347\n",
       "page_name                                                   Save Texas\n",
       "ad_id                                                  762749274711708\n",
       "ad_creation_date                                            2022-05-03\n",
       "ad_creation_month                                                    5\n",
       "delivery_start                                              2022-05-03\n",
       "delivery_stop                                               2022-05-06\n",
       "delivery_period                                                      3\n",
       "ad_url               https://www.facebook.com/ads/archive/render_ad...\n",
       "ad_body              In a technical report updated for the first ti...\n",
       "uses_multi_body                                                      0\n",
       "link_caption                                     oceanservice.noaa.gov\n",
       "uses_multi_capt                                                      0\n",
       "link_title                        2022 Sea Level Rise Technical Report\n",
       "uses_multi_title                                                     0\n",
       "link_description     This Sea Level Rise Technical Report provides ...\n",
       "uses_multi_desc                                                      0\n",
       "language                                                            en\n",
       "uses_multi_lang                                                      0\n",
       "funded_by                           Texas Campaign for the Environment\n",
       "currency                                                           USD\n",
       "min_spend                                                            0\n",
       "max_spend                                                      4.59512\n",
       "min_impressions                                                   2000\n",
       "max_impressions                                               8.006034\n",
       "min_audience_size                                                50001\n",
       "max_audience_size                                               100000\n",
       "impressions                                                     2499.5\n",
       "spend                                                             49.5\n",
       "CPM                                                                  2\n",
       "CPM2                                                                 1\n",
       "facebook                                                             1\n",
       "instagram                                                            0\n",
       "messenger                                                            0\n",
       "audience_network                                                     0\n",
       "demographic_dist     [{'percentage': '0.004551', 'age': '18-24', 'g...\n",
       "Name: 0, dtype: object"
      ]
     },
     "execution_count": 52,
     "metadata": {},
     "output_type": "execute_result"
    }
   ],
   "source": [
    "df.iloc[0]"
   ]
  },
  {
   "cell_type": "code",
   "execution_count": 68,
   "metadata": {},
   "outputs": [
    {
     "data": {
      "text/plain": [
       "(1072, 38)"
      ]
     },
     "execution_count": 68,
     "metadata": {},
     "output_type": "execute_result"
    }
   ],
   "source": [
    "df2 = df[df['uses_multi_body'] == 1]\n",
    "df2.shape"
   ]
  },
  {
   "cell_type": "code",
   "execution_count": 71,
   "metadata": {},
   "outputs": [
    {
     "data": {
      "text/html": [
       "<div>\n",
       "<style scoped>\n",
       "    .dataframe tbody tr th:only-of-type {\n",
       "        vertical-align: middle;\n",
       "    }\n",
       "\n",
       "    .dataframe tbody tr th {\n",
       "        vertical-align: top;\n",
       "    }\n",
       "\n",
       "    .dataframe thead th {\n",
       "        text-align: right;\n",
       "    }\n",
       "</style>\n",
       "<table border=\"1\" class=\"dataframe\">\n",
       "  <thead>\n",
       "    <tr style=\"text-align: right;\">\n",
       "      <th></th>\n",
       "      <th>ad_body</th>\n",
       "    </tr>\n",
       "  </thead>\n",
       "  <tbody>\n",
       "    <tr>\n",
       "      <th>43</th>\n",
       "      <td>Patriotic Apparel is HERE! 🇺🇸\\n\\nWhen you wear one of our shirts, you’re letting people know that you’re not afraid to love your country; you’re not ashamed of being an American, you're proud to be an American.\\n\\nWe provide American quality without the B.S.</td>\n",
       "    </tr>\n",
       "    <tr>\n",
       "      <th>45</th>\n",
       "      <td>Patriotic Apparel is HERE! 🇺🇸\\n\\nWhen you wear one of our shirts, you’re letting people know that you’re not afraid to love your country; you’re not ashamed of being an American, you're proud to be an American.\\n\\nWe provide American quality without the B.S.</td>\n",
       "    </tr>\n",
       "    <tr>\n",
       "      <th>78</th>\n",
       "      <td>Patriotic Apparel is HERE! 🇺🇸\\n\\nWhen you wear one of our shirts, you’re letting people know that you’re not afraid to love your country; you’re not ashamed of being an American, you're proud to be an American.\\n\\n\"Once you put this shirt on, you'll travel back in time to the days of our Founding Fathers. George Washington will shake your hand and by you a beer at the local tavern. (Not really) Shirt is made of quality material and feels great against my DadBod. I ordered a size up and it's a little big but overall I am very happy with my purchase.\"\\n\\nWe provide American quality without the B.S.</td>\n",
       "    </tr>\n",
       "    <tr>\n",
       "      <th>79</th>\n",
       "      <td>Patriotic Apparel is HERE! 🇺🇸\\n\\nWhen you wear one of our shirts, you’re letting people know that you’re not afraid to love your country; you’re not ashamed of being an American, you're proud to be an American.\\n\\n\"Once you put this shirt on, you'll travel back in time to the days of our Founding Fathers. George Washington will shake your hand and by you a beer at the local tavern. (Not really) Shirt is made of quality material and feels great against my DadBod. I ordered a size up and it's a little big but overall I am very happy with my purchase.\"\\n\\nWe provide American quality without the B.S.</td>\n",
       "    </tr>\n",
       "    <tr>\n",
       "      <th>395</th>\n",
       "      <td>Americans need to get the government off their backs, so they can live life as they want and THRIVE.  \\n\\nThe path to THRIVING includes school choice, VocTech training at both the high school level and for unemployed and underemployed adults, all of which Bobby Scott has consistently voted against.</td>\n",
       "    </tr>\n",
       "    <tr>\n",
       "      <th>...</th>\n",
       "      <td>...</td>\n",
       "    </tr>\n",
       "    <tr>\n",
       "      <th>38163</th>\n",
       "      <td>Moody's Analytics proyecta que una victoria de Joe Biden marcaría el comienzo de un mayor crecimiento económico y de empleo que con el presidente Trump.</td>\n",
       "    </tr>\n",
       "    <tr>\n",
       "      <th>38174</th>\n",
       "      <td>Moody's Analytics dice que el plan económico de Joe Biden crearía 7 millones de empleos más que el de Donald Trump.</td>\n",
       "    </tr>\n",
       "    <tr>\n",
       "      <th>38175</th>\n",
       "      <td>Moody's Analytics proyecta que una victoria de Joe Biden marcaría el comienzo de un mayor crecimiento económico y de empleo que bajo el presidente Trump.</td>\n",
       "    </tr>\n",
       "    <tr>\n",
       "      <th>38176</th>\n",
       "      <td>Moody's Analytics dice que el plan económico de Joe Biden crearía 7 millones de empleos más que el de Donald Trump.</td>\n",
       "    </tr>\n",
       "    <tr>\n",
       "      <th>38177</th>\n",
       "      <td>Moody's Analytics proyecta que una victoria de Joe Biden marcaría el comienzo de un mayor crecimiento económico y de empleo que bajo el presidente Trump.</td>\n",
       "    </tr>\n",
       "  </tbody>\n",
       "</table>\n",
       "<p>1000 rows × 1 columns</p>\n",
       "</div>"
      ],
      "text/plain": [
       "                                                                                                                                                                                                                                                                                                                                                                                                                                                                                                                                                                                                                           ad_body\n",
       "43                                                                                                                                                                                                                                                                                                                                                              Patriotic Apparel is HERE! 🇺🇸\\n\\nWhen you wear one of our shirts, you’re letting people know that you’re not afraid to love your country; you’re not ashamed of being an American, you're proud to be an American.\\n\\nWe provide American quality without the B.S.\n",
       "45                                                                                                                                                                                                                                                                                                                                                              Patriotic Apparel is HERE! 🇺🇸\\n\\nWhen you wear one of our shirts, you’re letting people know that you’re not afraid to love your country; you’re not ashamed of being an American, you're proud to be an American.\\n\\nWe provide American quality without the B.S.\n",
       "78     Patriotic Apparel is HERE! 🇺🇸\\n\\nWhen you wear one of our shirts, you’re letting people know that you’re not afraid to love your country; you’re not ashamed of being an American, you're proud to be an American.\\n\\n\"Once you put this shirt on, you'll travel back in time to the days of our Founding Fathers. George Washington will shake your hand and by you a beer at the local tavern. (Not really) Shirt is made of quality material and feels great against my DadBod. I ordered a size up and it's a little big but overall I am very happy with my purchase.\"\\n\\nWe provide American quality without the B.S.\n",
       "79     Patriotic Apparel is HERE! 🇺🇸\\n\\nWhen you wear one of our shirts, you’re letting people know that you’re not afraid to love your country; you’re not ashamed of being an American, you're proud to be an American.\\n\\n\"Once you put this shirt on, you'll travel back in time to the days of our Founding Fathers. George Washington will shake your hand and by you a beer at the local tavern. (Not really) Shirt is made of quality material and feels great against my DadBod. I ordered a size up and it's a little big but overall I am very happy with my purchase.\"\\n\\nWe provide American quality without the B.S.\n",
       "395                                                                                                                                                                                                                                                                                                                    Americans need to get the government off their backs, so they can live life as they want and THRIVE.  \\n\\nThe path to THRIVING includes school choice, VocTech training at both the high school level and for unemployed and underemployed adults, all of which Bobby Scott has consistently voted against.\n",
       "...                                                                                                                                                                                                                                                                                                                                                                                                                                                                                                                                                                                                                            ...\n",
       "38163                                                                                                                                                                                                                                                                                                                                                                                                                                                                     Moody's Analytics proyecta que una victoria de Joe Biden marcaría el comienzo de un mayor crecimiento económico y de empleo que con el presidente Trump.\n",
       "38174                                                                                                                                                                                                                                                                                                                                                                                                                                                                                                          Moody's Analytics dice que el plan económico de Joe Biden crearía 7 millones de empleos más que el de Donald Trump.\n",
       "38175                                                                                                                                                                                                                                                                                                                                                                                                                                                                    Moody's Analytics proyecta que una victoria de Joe Biden marcaría el comienzo de un mayor crecimiento económico y de empleo que bajo el presidente Trump.\n",
       "38176                                                                                                                                                                                                                                                                                                                                                                                                                                                                                                          Moody's Analytics dice que el plan económico de Joe Biden crearía 7 millones de empleos más que el de Donald Trump.\n",
       "38177                                                                                                                                                                                                                                                                                                                                                                                                                                                                    Moody's Analytics proyecta que una victoria de Joe Biden marcaría el comienzo de un mayor crecimiento económico y de empleo que bajo el presidente Trump.\n",
       "\n",
       "[1000 rows x 1 columns]"
      ]
     },
     "execution_count": 71,
     "metadata": {},
     "output_type": "execute_result"
    }
   ],
   "source": [
    "pd.set_option('display.max_colwidth', None)\n",
    "# dummy = pd.DataFrame(df2[df2['page_id'] == '131942223874']['ad_body'])\n",
    "dummy = pd.DataFrame(df2['ad_body'])\n",
    "dummy.head(1000)"
   ]
  },
  {
   "cell_type": "code",
   "execution_count": 1,
   "metadata": {},
   "outputs": [
    {
     "ename": "NameError",
     "evalue": "name 'df' is not defined",
     "output_type": "error",
     "traceback": [
      "\u001b[1;31m---------------------------------------------------------------------------\u001b[0m",
      "\u001b[1;31mNameError\u001b[0m                                 Traceback (most recent call last)",
      "\u001b[1;32m<ipython-input-1-32992f7ed98f>\u001b[0m in \u001b[0;36m<module>\u001b[1;34m\u001b[0m\n\u001b[1;32m----> 1\u001b[1;33m \u001b[0mdf\u001b[0m\u001b[1;33m[\u001b[0m\u001b[1;34m'ad_url'\u001b[0m\u001b[1;33m]\u001b[0m\u001b[1;33m\u001b[0m\u001b[1;33m\u001b[0m\u001b[0m\n\u001b[0m",
      "\u001b[1;31mNameError\u001b[0m: name 'df' is not defined"
     ]
    }
   ],
   "source": [
    "df['ad_url']"
   ]
  },
  {
   "cell_type": "code",
   "execution_count": null,
   "metadata": {},
   "outputs": [],
   "source": []
  }
 ],
 "metadata": {
  "kernelspec": {
   "display_name": "Python 3",
   "language": "python",
   "name": "python3"
  },
  "language_info": {
   "codemirror_mode": {
    "name": "ipython",
    "version": 3
   },
   "file_extension": ".py",
   "mimetype": "text/x-python",
   "name": "python",
   "nbconvert_exporter": "python",
   "pygments_lexer": "ipython3",
   "version": "3.8.5"
  }
 },
 "nbformat": 4,
 "nbformat_minor": 4
}
