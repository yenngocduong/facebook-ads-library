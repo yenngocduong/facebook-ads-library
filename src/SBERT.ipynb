{
 "cells": [
  {
   "cell_type": "code",
   "execution_count": 13,
   "metadata": {},
   "outputs": [],
   "source": [
    "import sys, os, importlib, utils, pandas as pd, torch\n",
    "from sentence_transformers import SentenceTransformer\n",
    "from tqdm import tqdm"
   ]
  },
  {
   "cell_type": "code",
   "execution_count": 2,
   "metadata": {},
   "outputs": [
    {
     "name": "stdout",
     "output_type": "stream",
     "text": [
      "Collecting sentence_transformers\n",
      "  Downloading sentence-transformers-2.2.0.tar.gz (79 kB)\n",
      "Requirement already satisfied: transformers<5.0.0,>=4.6.0 in c:\\users\\root\\anaconda3\\lib\\site-packages (from sentence_transformers) (4.19.2)\n",
      "Requirement already satisfied: tqdm in c:\\users\\root\\anaconda3\\lib\\site-packages (from sentence_transformers) (4.50.2)\n",
      "Requirement already satisfied: torch>=1.6.0 in c:\\users\\root\\anaconda3\\lib\\site-packages (from sentence_transformers) (1.9.0)\n",
      "Requirement already satisfied: torchvision in c:\\users\\root\\anaconda3\\lib\\site-packages (from sentence_transformers) (0.10.0)\n",
      "Requirement already satisfied: numpy in c:\\users\\root\\anaconda3\\lib\\site-packages (from sentence_transformers) (1.19.2)\n",
      "Requirement already satisfied: scikit-learn in c:\\users\\root\\anaconda3\\lib\\site-packages (from sentence_transformers) (0.23.2)\n",
      "Requirement already satisfied: scipy in c:\\users\\root\\anaconda3\\lib\\site-packages (from sentence_transformers) (1.5.2)\n",
      "Requirement already satisfied: nltk in c:\\users\\root\\anaconda3\\lib\\site-packages (from sentence_transformers) (3.5)\n",
      "Collecting sentencepiece\n",
      "  Downloading sentencepiece-0.1.96-cp38-cp38-win_amd64.whl (1.1 MB)\n",
      "Requirement already satisfied: huggingface-hub in c:\\users\\root\\anaconda3\\lib\\site-packages (from sentence_transformers) (0.7.0)\n",
      "Requirement already satisfied: tokenizers!=0.11.3,<0.13,>=0.11.1 in c:\\users\\root\\anaconda3\\lib\\site-packages (from transformers<5.0.0,>=4.6.0->sentence_transformers) (0.12.1)\n",
      "Requirement already satisfied: requests in c:\\users\\root\\anaconda3\\lib\\site-packages (from transformers<5.0.0,>=4.6.0->sentence_transformers) (2.24.0)\n",
      "Requirement already satisfied: regex!=2019.12.17 in c:\\users\\root\\anaconda3\\lib\\site-packages (from transformers<5.0.0,>=4.6.0->sentence_transformers) (2020.10.15)\n",
      "Requirement already satisfied: packaging>=20.0 in c:\\users\\root\\anaconda3\\lib\\site-packages (from transformers<5.0.0,>=4.6.0->sentence_transformers) (21.3)\n",
      "Requirement already satisfied: pyyaml>=5.1 in c:\\users\\root\\anaconda3\\lib\\site-packages (from transformers<5.0.0,>=4.6.0->sentence_transformers) (5.3.1)\n",
      "Requirement already satisfied: filelock in c:\\users\\root\\anaconda3\\lib\\site-packages (from transformers<5.0.0,>=4.6.0->sentence_transformers) (3.0.12)\n",
      "Requirement already satisfied: typing_extensions in c:\\users\\root\\anaconda3\\lib\\site-packages (from torch>=1.6.0->sentence_transformers) (3.7.4.3)\n",
      "Requirement already satisfied: pillow>=5.3.0 in c:\\users\\root\\anaconda3\\lib\\site-packages (from torchvision->sentence_transformers) (8.0.1)\n",
      "Requirement already satisfied: threadpoolctl>=2.0.0 in c:\\users\\root\\anaconda3\\lib\\site-packages (from scikit-learn->sentence_transformers) (2.1.0)\n",
      "Requirement already satisfied: joblib>=0.11 in c:\\users\\root\\anaconda3\\lib\\site-packages (from scikit-learn->sentence_transformers) (0.17.0)\n",
      "Requirement already satisfied: click in c:\\users\\root\\anaconda3\\lib\\site-packages (from nltk->sentence_transformers) (7.1.2)\n",
      "Requirement already satisfied: urllib3!=1.25.0,!=1.25.1,<1.26,>=1.21.1 in c:\\users\\root\\anaconda3\\lib\\site-packages (from requests->transformers<5.0.0,>=4.6.0->sentence_transformers) (1.25.11)\n",
      "Requirement already satisfied: chardet<4,>=3.0.2 in c:\\users\\root\\anaconda3\\lib\\site-packages (from requests->transformers<5.0.0,>=4.6.0->sentence_transformers) (3.0.4)\n",
      "Requirement already satisfied: idna<3,>=2.5 in c:\\users\\root\\anaconda3\\lib\\site-packages (from requests->transformers<5.0.0,>=4.6.0->sentence_transformers) (2.10)\n",
      "Requirement already satisfied: certifi>=2017.4.17 in c:\\users\\root\\anaconda3\\lib\\site-packages (from requests->transformers<5.0.0,>=4.6.0->sentence_transformers) (2022.5.18.1)\n",
      "Requirement already satisfied: pyparsing!=3.0.5,>=2.0.2 in c:\\users\\root\\anaconda3\\lib\\site-packages (from packaging>=20.0->transformers<5.0.0,>=4.6.0->sentence_transformers) (2.4.7)\n",
      "Building wheels for collected packages: sentence-transformers\n",
      "  Building wheel for sentence-transformers (setup.py): started\n",
      "  Building wheel for sentence-transformers (setup.py): finished with status 'done'\n",
      "  Created wheel for sentence-transformers: filename=sentence_transformers-2.2.0-py3-none-any.whl size=120753 sha256=6915a296c59bd7a4cf1b143cadfdfbc3b8364607c9d3521964374408629cfbaf\n",
      "  Stored in directory: c:\\users\\root\\appdata\\local\\pip\\cache\\wheels\\0c\\b6\\fb\\2289a932c365293ad865fc1fe9d2db694d5584241c6d670874\n",
      "Successfully built sentence-transformers\n",
      "Installing collected packages: sentencepiece, sentence-transformers\n",
      "Successfully installed sentence-transformers-2.2.0 sentencepiece-0.1.96\n"
     ]
    }
   ],
   "source": [
    "!pip install sentence_transformers"
   ]
  },
  {
   "cell_type": "code",
   "execution_count": 5,
   "metadata": {},
   "outputs": [
    {
     "data": {
      "application/vnd.jupyter.widget-view+json": {
       "model_id": "b4e250ecd53540d39e80c7fd86234a65",
       "version_major": 2,
       "version_minor": 0
      },
      "text/plain": [
       "HBox(children=(HTML(value='Downloading'), FloatProgress(value=0.0, max=968.0), HTML(value='')))"
      ]
     },
     "metadata": {},
     "output_type": "display_data"
    },
    {
     "name": "stdout",
     "output_type": "stream",
     "text": [
      "\n"
     ]
    },
    {
     "data": {
      "application/vnd.jupyter.widget-view+json": {
       "model_id": "050ce25e9bc54bf08f03f16779fc466c",
       "version_major": 2,
       "version_minor": 0
      },
      "text/plain": [
       "HBox(children=(HTML(value='Downloading'), FloatProgress(value=0.0, max=190.0), HTML(value='')))"
      ]
     },
     "metadata": {},
     "output_type": "display_data"
    },
    {
     "name": "stdout",
     "output_type": "stream",
     "text": [
      "\n"
     ]
    },
    {
     "data": {
      "application/vnd.jupyter.widget-view+json": {
       "model_id": "bda20247cee44e4f8cc58daea85842d5",
       "version_major": 2,
       "version_minor": 0
      },
      "text/plain": [
       "HBox(children=(HTML(value='Downloading'), FloatProgress(value=0.0, max=3786.0), HTML(value='')))"
      ]
     },
     "metadata": {},
     "output_type": "display_data"
    },
    {
     "name": "stdout",
     "output_type": "stream",
     "text": [
      "\n"
     ]
    },
    {
     "data": {
      "application/vnd.jupyter.widget-view+json": {
       "model_id": "fbf411eeb87d460a81d5df614e17f7bf",
       "version_major": 2,
       "version_minor": 0
      },
      "text/plain": [
       "HBox(children=(HTML(value='Downloading'), FloatProgress(value=0.0, max=645.0), HTML(value='')))"
      ]
     },
     "metadata": {},
     "output_type": "display_data"
    },
    {
     "name": "stdout",
     "output_type": "stream",
     "text": [
      "\n"
     ]
    },
    {
     "data": {
      "application/vnd.jupyter.widget-view+json": {
       "model_id": "870cdc12b7bb42d0b9608a3369db0119",
       "version_major": 2,
       "version_minor": 0
      },
      "text/plain": [
       "HBox(children=(HTML(value='Downloading'), FloatProgress(value=0.0, max=122.0), HTML(value='')))"
      ]
     },
     "metadata": {},
     "output_type": "display_data"
    },
    {
     "name": "stdout",
     "output_type": "stream",
     "text": [
      "\n"
     ]
    },
    {
     "data": {
      "application/vnd.jupyter.widget-view+json": {
       "model_id": "889259c0f8ad4180ac5fda76b0e3309c",
       "version_major": 2,
       "version_minor": 0
      },
      "text/plain": [
       "HBox(children=(HTML(value='Downloading'), FloatProgress(value=0.0, max=229.0), HTML(value='')))"
      ]
     },
     "metadata": {},
     "output_type": "display_data"
    },
    {
     "name": "stdout",
     "output_type": "stream",
     "text": [
      "\n"
     ]
    },
    {
     "data": {
      "application/vnd.jupyter.widget-view+json": {
       "model_id": "9dfb4fd57a8b430c9fa7051fd02de6c9",
       "version_major": 2,
       "version_minor": 0
      },
      "text/plain": [
       "HBox(children=(HTML(value='Downloading'), FloatProgress(value=0.0, max=470693617.0), HTML(value='')))"
      ]
     },
     "metadata": {},
     "output_type": "display_data"
    },
    {
     "name": "stdout",
     "output_type": "stream",
     "text": [
      "\n"
     ]
    },
    {
     "data": {
      "application/vnd.jupyter.widget-view+json": {
       "model_id": "d86f8baa900c4f1388a100390ed7aa6d",
       "version_major": 2,
       "version_minor": 0
      },
      "text/plain": [
       "HBox(children=(HTML(value='Downloading'), FloatProgress(value=0.0, max=53.0), HTML(value='')))"
      ]
     },
     "metadata": {},
     "output_type": "display_data"
    },
    {
     "name": "stdout",
     "output_type": "stream",
     "text": [
      "\n"
     ]
    },
    {
     "data": {
      "application/vnd.jupyter.widget-view+json": {
       "model_id": "6ed927e1fca74eee9082bc2b2cdc1cac",
       "version_major": 2,
       "version_minor": 0
      },
      "text/plain": [
       "HBox(children=(HTML(value='Downloading'), FloatProgress(value=0.0, max=5069051.0), HTML(value='')))"
      ]
     },
     "metadata": {},
     "output_type": "display_data"
    },
    {
     "name": "stdout",
     "output_type": "stream",
     "text": [
      "\n"
     ]
    },
    {
     "data": {
      "application/vnd.jupyter.widget-view+json": {
       "model_id": "df30ccd600e8411abd4498e26de2fd03",
       "version_major": 2,
       "version_minor": 0
      },
      "text/plain": [
       "HBox(children=(HTML(value='Downloading'), FloatProgress(value=0.0, max=239.0), HTML(value='')))"
      ]
     },
     "metadata": {},
     "output_type": "display_data"
    },
    {
     "name": "stdout",
     "output_type": "stream",
     "text": [
      "\n"
     ]
    },
    {
     "data": {
      "application/vnd.jupyter.widget-view+json": {
       "model_id": "fcf7180052264ab2ad8450bb26a0f985",
       "version_major": 2,
       "version_minor": 0
      },
      "text/plain": [
       "HBox(children=(HTML(value='Downloading'), FloatProgress(value=0.0, max=9081518.0), HTML(value='')))"
      ]
     },
     "metadata": {},
     "output_type": "display_data"
    },
    {
     "name": "stdout",
     "output_type": "stream",
     "text": [
      "\n"
     ]
    },
    {
     "data": {
      "application/vnd.jupyter.widget-view+json": {
       "model_id": "d81592aa455d48b3b8db11d048e85e92",
       "version_major": 2,
       "version_minor": 0
      },
      "text/plain": [
       "HBox(children=(HTML(value='Downloading'), FloatProgress(value=0.0, max=480.0), HTML(value='')))"
      ]
     },
     "metadata": {},
     "output_type": "display_data"
    },
    {
     "name": "stdout",
     "output_type": "stream",
     "text": [
      "\n"
     ]
    },
    {
     "data": {
      "application/vnd.jupyter.widget-view+json": {
       "model_id": "c1ac9411c1fa4dcd9bcd676c39bd8248",
       "version_major": 2,
       "version_minor": 0
      },
      "text/plain": [
       "HBox(children=(HTML(value='Downloading'), FloatProgress(value=0.0, max=14763234.0), HTML(value='')))"
      ]
     },
     "metadata": {},
     "output_type": "display_data"
    },
    {
     "name": "stdout",
     "output_type": "stream",
     "text": [
      "\n"
     ]
    }
   ],
   "source": [
    "# feature extraction model\n",
    "device = \"cuda:0\" if torch.cuda.is_available() else \"cpu\"\n",
    "model_name = utils.model_config()['feature-extraction']['text']['model-name']\n",
    "feature_extractor = SentenceTransformer(model_name, device=device)"
   ]
  },
  {
   "cell_type": "code",
   "execution_count": 14,
   "metadata": {},
   "outputs": [],
   "source": [
    "df = pd.read_csv(\"Y:/Internship/SoMin/data/df_cpm_scaled_valid_img2.csv\")"
   ]
  },
  {
   "cell_type": "code",
   "execution_count": 15,
   "metadata": {},
   "outputs": [
    {
     "data": {
      "text/plain": [
       "Index(['Unnamed: 0', 'Unnamed: 0.1', 'Unnamed: 0.1.1', 'search_term',\n",
       "       'country', 'page_id', 'page_name', 'ad_id', 'ad_creation_date',\n",
       "       'ad_creation_month', 'delivery_start', 'delivery_stop',\n",
       "       'delivery_period', 'ad_url', 'ad_body', 'uses_multi_body',\n",
       "       'link_caption', 'uses_multi_capt', 'link_title', 'uses_multi_title',\n",
       "       'link_description', 'uses_multi_desc', 'language', 'uses_multi_lang',\n",
       "       'funded_by', 'currency', 'min_spend', 'max_spend', 'min_impressions',\n",
       "       'max_impressions', 'min_audience_size', 'max_audience_size',\n",
       "       'impressions', 'spend', 'CPM', 'CPM2', 'facebook', 'instagram',\n",
       "       'messenger', 'audience_network', 'demographic_dist', 'spend_per_day',\n",
       "       'impressions_per_day', 'impressions_per_day_log', 'CPM_scaled',\n",
       "       'CPM_scaled_sqrt', 'text_length_score', 'text_percentage',\n",
       "       'CPM_scaled_sqrt_bin'],\n",
       "      dtype='object')"
      ]
     },
     "execution_count": 15,
     "metadata": {},
     "output_type": "execute_result"
    }
   ],
   "source": [
    "df.columns"
   ]
  },
  {
   "cell_type": "code",
   "execution_count": 16,
   "metadata": {},
   "outputs": [
    {
     "data": {
      "text/plain": [
       "(30432, 49)"
      ]
     },
     "execution_count": 16,
     "metadata": {},
     "output_type": "execute_result"
    }
   ],
   "source": [
    "df.shape"
   ]
  },
  {
   "cell_type": "code",
   "execution_count": 17,
   "metadata": {},
   "outputs": [],
   "source": [
    "df['ad_body'].fillna('', inplace=True)"
   ]
  },
  {
   "cell_type": "code",
   "execution_count": 18,
   "metadata": {},
   "outputs": [
    {
     "name": "stdout",
     "output_type": "stream",
     "text": [
      "0\n"
     ]
    }
   ],
   "source": [
    "print(df['ad_body'].isnull().sum())"
   ]
  },
  {
   "cell_type": "code",
   "execution_count": 19,
   "metadata": {},
   "outputs": [
    {
     "name": "stderr",
     "output_type": "stream",
     "text": [
      "30432it [44:48, 11.32it/s]\n"
     ]
    }
   ],
   "source": [
    "ad_ids, embeddings_1, embeddings_2 = [], [], []\n",
    "\n",
    "for _, row in tqdm(df.iterrows()):\n",
    "    ad_id = row['ad_id']\n",
    "    ad_body = row['ad_body']\n",
    "#     ad_body_2 = row['ad_body_2']\n",
    "\n",
    "    emb_array = feature_extractor.encode(ad_body, device=device)\n",
    "#     emb_array = feature_extractor.encode(ad_body_2, device=device)\n",
    "    \n",
    "    ad_ids.append(ad_id)\n",
    "    embeddings_1.append(emb_array)\n",
    "#     embeddings_2.append(emb_array)\n",
    "    # embeddings.append(','.join(list(map(str, emb_array.tolist()))))"
   ]
  },
  {
   "cell_type": "code",
   "execution_count": 22,
   "metadata": {},
   "outputs": [],
   "source": [
    "text_features = pd.concat([pd.DataFrame(ad_ids, columns=['ad_id']), \n",
    "                           pd.DataFrame(embeddings_1, columns=[f'txt_a{i}' for i in range(len(embeddings_1[0]))])], \n",
    "                           axis=1)"
   ]
  },
  {
   "cell_type": "code",
   "execution_count": 23,
   "metadata": {},
   "outputs": [
    {
     "data": {
      "text/html": [
       "<div>\n",
       "<style scoped>\n",
       "    .dataframe tbody tr th:only-of-type {\n",
       "        vertical-align: middle;\n",
       "    }\n",
       "\n",
       "    .dataframe tbody tr th {\n",
       "        vertical-align: top;\n",
       "    }\n",
       "\n",
       "    .dataframe thead th {\n",
       "        text-align: right;\n",
       "    }\n",
       "</style>\n",
       "<table border=\"1\" class=\"dataframe\">\n",
       "  <thead>\n",
       "    <tr style=\"text-align: right;\">\n",
       "      <th></th>\n",
       "      <th>ad_id</th>\n",
       "      <th>txt_a0</th>\n",
       "      <th>txt_a1</th>\n",
       "      <th>txt_a2</th>\n",
       "      <th>txt_a3</th>\n",
       "      <th>txt_a4</th>\n",
       "      <th>txt_a5</th>\n",
       "      <th>txt_a6</th>\n",
       "      <th>txt_a7</th>\n",
       "      <th>txt_a8</th>\n",
       "      <th>...</th>\n",
       "      <th>txt_a374</th>\n",
       "      <th>txt_a375</th>\n",
       "      <th>txt_a376</th>\n",
       "      <th>txt_a377</th>\n",
       "      <th>txt_a378</th>\n",
       "      <th>txt_a379</th>\n",
       "      <th>txt_a380</th>\n",
       "      <th>txt_a381</th>\n",
       "      <th>txt_a382</th>\n",
       "      <th>txt_a383</th>\n",
       "    </tr>\n",
       "  </thead>\n",
       "  <tbody>\n",
       "    <tr>\n",
       "      <th>0</th>\n",
       "      <td>762749274711708</td>\n",
       "      <td>-0.184409</td>\n",
       "      <td>0.092720</td>\n",
       "      <td>0.234229</td>\n",
       "      <td>0.244633</td>\n",
       "      <td>0.133959</td>\n",
       "      <td>-0.034743</td>\n",
       "      <td>-0.414326</td>\n",
       "      <td>0.169170</td>\n",
       "      <td>0.161987</td>\n",
       "      <td>...</td>\n",
       "      <td>-0.015169</td>\n",
       "      <td>0.210779</td>\n",
       "      <td>-0.007181</td>\n",
       "      <td>-0.248836</td>\n",
       "      <td>-0.295573</td>\n",
       "      <td>0.118702</td>\n",
       "      <td>0.138403</td>\n",
       "      <td>-0.215594</td>\n",
       "      <td>-0.186626</td>\n",
       "      <td>0.090878</td>\n",
       "    </tr>\n",
       "    <tr>\n",
       "      <th>1</th>\n",
       "      <td>563054608471314</td>\n",
       "      <td>-0.184409</td>\n",
       "      <td>0.092720</td>\n",
       "      <td>0.234229</td>\n",
       "      <td>0.244633</td>\n",
       "      <td>0.133959</td>\n",
       "      <td>-0.034743</td>\n",
       "      <td>-0.414326</td>\n",
       "      <td>0.169170</td>\n",
       "      <td>0.161987</td>\n",
       "      <td>...</td>\n",
       "      <td>-0.015169</td>\n",
       "      <td>0.210779</td>\n",
       "      <td>-0.007181</td>\n",
       "      <td>-0.248836</td>\n",
       "      <td>-0.295573</td>\n",
       "      <td>0.118702</td>\n",
       "      <td>0.138403</td>\n",
       "      <td>-0.215594</td>\n",
       "      <td>-0.186626</td>\n",
       "      <td>0.090878</td>\n",
       "    </tr>\n",
       "    <tr>\n",
       "      <th>2</th>\n",
       "      <td>930566127614072</td>\n",
       "      <td>0.076499</td>\n",
       "      <td>-0.013126</td>\n",
       "      <td>-0.133957</td>\n",
       "      <td>-0.238189</td>\n",
       "      <td>0.210767</td>\n",
       "      <td>0.140465</td>\n",
       "      <td>-0.308346</td>\n",
       "      <td>-0.018898</td>\n",
       "      <td>-0.037311</td>\n",
       "      <td>...</td>\n",
       "      <td>0.516957</td>\n",
       "      <td>-0.013630</td>\n",
       "      <td>-0.070029</td>\n",
       "      <td>0.037165</td>\n",
       "      <td>0.037470</td>\n",
       "      <td>0.327335</td>\n",
       "      <td>-0.036910</td>\n",
       "      <td>0.039630</td>\n",
       "      <td>-0.259133</td>\n",
       "      <td>0.124945</td>\n",
       "    </tr>\n",
       "    <tr>\n",
       "      <th>3</th>\n",
       "      <td>738864343939155</td>\n",
       "      <td>0.095724</td>\n",
       "      <td>-0.046410</td>\n",
       "      <td>-0.321614</td>\n",
       "      <td>0.034098</td>\n",
       "      <td>0.072352</td>\n",
       "      <td>0.331428</td>\n",
       "      <td>0.310781</td>\n",
       "      <td>-0.053475</td>\n",
       "      <td>0.043906</td>\n",
       "      <td>...</td>\n",
       "      <td>0.101721</td>\n",
       "      <td>0.270890</td>\n",
       "      <td>0.070874</td>\n",
       "      <td>-0.057207</td>\n",
       "      <td>-0.273121</td>\n",
       "      <td>-0.211490</td>\n",
       "      <td>0.111363</td>\n",
       "      <td>-0.013303</td>\n",
       "      <td>-0.070289</td>\n",
       "      <td>-0.014206</td>\n",
       "    </tr>\n",
       "    <tr>\n",
       "      <th>4</th>\n",
       "      <td>512240050437223</td>\n",
       "      <td>0.140352</td>\n",
       "      <td>0.102625</td>\n",
       "      <td>-0.044546</td>\n",
       "      <td>0.140429</td>\n",
       "      <td>0.093042</td>\n",
       "      <td>0.280933</td>\n",
       "      <td>0.299975</td>\n",
       "      <td>0.018833</td>\n",
       "      <td>0.110578</td>\n",
       "      <td>...</td>\n",
       "      <td>0.267957</td>\n",
       "      <td>0.123125</td>\n",
       "      <td>0.070192</td>\n",
       "      <td>-0.165444</td>\n",
       "      <td>-0.139250</td>\n",
       "      <td>-0.005579</td>\n",
       "      <td>0.000079</td>\n",
       "      <td>0.097999</td>\n",
       "      <td>-0.114313</td>\n",
       "      <td>0.166590</td>\n",
       "    </tr>\n",
       "    <tr>\n",
       "      <th>...</th>\n",
       "      <td>...</td>\n",
       "      <td>...</td>\n",
       "      <td>...</td>\n",
       "      <td>...</td>\n",
       "      <td>...</td>\n",
       "      <td>...</td>\n",
       "      <td>...</td>\n",
       "      <td>...</td>\n",
       "      <td>...</td>\n",
       "      <td>...</td>\n",
       "      <td>...</td>\n",
       "      <td>...</td>\n",
       "      <td>...</td>\n",
       "      <td>...</td>\n",
       "      <td>...</td>\n",
       "      <td>...</td>\n",
       "      <td>...</td>\n",
       "      <td>...</td>\n",
       "      <td>...</td>\n",
       "      <td>...</td>\n",
       "      <td>...</td>\n",
       "    </tr>\n",
       "    <tr>\n",
       "      <th>30427</th>\n",
       "      <td>381289572628044</td>\n",
       "      <td>0.311172</td>\n",
       "      <td>-0.154511</td>\n",
       "      <td>-0.035533</td>\n",
       "      <td>-0.154961</td>\n",
       "      <td>0.025548</td>\n",
       "      <td>-0.134334</td>\n",
       "      <td>-0.118996</td>\n",
       "      <td>0.206683</td>\n",
       "      <td>-0.042514</td>\n",
       "      <td>...</td>\n",
       "      <td>0.223717</td>\n",
       "      <td>0.074807</td>\n",
       "      <td>0.432073</td>\n",
       "      <td>0.014829</td>\n",
       "      <td>-0.080632</td>\n",
       "      <td>0.164357</td>\n",
       "      <td>-0.063479</td>\n",
       "      <td>0.202457</td>\n",
       "      <td>-0.081238</td>\n",
       "      <td>-0.046617</td>\n",
       "    </tr>\n",
       "    <tr>\n",
       "      <th>30428</th>\n",
       "      <td>517753845398018</td>\n",
       "      <td>0.311172</td>\n",
       "      <td>-0.154511</td>\n",
       "      <td>-0.035533</td>\n",
       "      <td>-0.154961</td>\n",
       "      <td>0.025548</td>\n",
       "      <td>-0.134334</td>\n",
       "      <td>-0.118996</td>\n",
       "      <td>0.206683</td>\n",
       "      <td>-0.042514</td>\n",
       "      <td>...</td>\n",
       "      <td>0.223717</td>\n",
       "      <td>0.074807</td>\n",
       "      <td>0.432073</td>\n",
       "      <td>0.014829</td>\n",
       "      <td>-0.080632</td>\n",
       "      <td>0.164357</td>\n",
       "      <td>-0.063479</td>\n",
       "      <td>0.202457</td>\n",
       "      <td>-0.081238</td>\n",
       "      <td>-0.046617</td>\n",
       "    </tr>\n",
       "    <tr>\n",
       "      <th>30429</th>\n",
       "      <td>1251766551633027</td>\n",
       "      <td>0.311172</td>\n",
       "      <td>-0.154511</td>\n",
       "      <td>-0.035533</td>\n",
       "      <td>-0.154961</td>\n",
       "      <td>0.025548</td>\n",
       "      <td>-0.134334</td>\n",
       "      <td>-0.118996</td>\n",
       "      <td>0.206683</td>\n",
       "      <td>-0.042514</td>\n",
       "      <td>...</td>\n",
       "      <td>0.223717</td>\n",
       "      <td>0.074807</td>\n",
       "      <td>0.432073</td>\n",
       "      <td>0.014829</td>\n",
       "      <td>-0.080632</td>\n",
       "      <td>0.164357</td>\n",
       "      <td>-0.063479</td>\n",
       "      <td>0.202457</td>\n",
       "      <td>-0.081238</td>\n",
       "      <td>-0.046617</td>\n",
       "    </tr>\n",
       "    <tr>\n",
       "      <th>30430</th>\n",
       "      <td>205891737021220</td>\n",
       "      <td>0.311172</td>\n",
       "      <td>-0.154511</td>\n",
       "      <td>-0.035533</td>\n",
       "      <td>-0.154961</td>\n",
       "      <td>0.025548</td>\n",
       "      <td>-0.134334</td>\n",
       "      <td>-0.118996</td>\n",
       "      <td>0.206683</td>\n",
       "      <td>-0.042514</td>\n",
       "      <td>...</td>\n",
       "      <td>0.223717</td>\n",
       "      <td>0.074807</td>\n",
       "      <td>0.432073</td>\n",
       "      <td>0.014829</td>\n",
       "      <td>-0.080632</td>\n",
       "      <td>0.164357</td>\n",
       "      <td>-0.063479</td>\n",
       "      <td>0.202457</td>\n",
       "      <td>-0.081238</td>\n",
       "      <td>-0.046617</td>\n",
       "    </tr>\n",
       "    <tr>\n",
       "      <th>30431</th>\n",
       "      <td>264290437582913</td>\n",
       "      <td>0.311172</td>\n",
       "      <td>-0.154511</td>\n",
       "      <td>-0.035533</td>\n",
       "      <td>-0.154961</td>\n",
       "      <td>0.025548</td>\n",
       "      <td>-0.134334</td>\n",
       "      <td>-0.118996</td>\n",
       "      <td>0.206683</td>\n",
       "      <td>-0.042514</td>\n",
       "      <td>...</td>\n",
       "      <td>0.223717</td>\n",
       "      <td>0.074807</td>\n",
       "      <td>0.432073</td>\n",
       "      <td>0.014829</td>\n",
       "      <td>-0.080632</td>\n",
       "      <td>0.164357</td>\n",
       "      <td>-0.063479</td>\n",
       "      <td>0.202457</td>\n",
       "      <td>-0.081238</td>\n",
       "      <td>-0.046617</td>\n",
       "    </tr>\n",
       "  </tbody>\n",
       "</table>\n",
       "<p>30432 rows × 385 columns</p>\n",
       "</div>"
      ],
      "text/plain": [
       "                  ad_id    txt_a0    txt_a1    txt_a2    txt_a3    txt_a4  \\\n",
       "0       762749274711708 -0.184409  0.092720  0.234229  0.244633  0.133959   \n",
       "1       563054608471314 -0.184409  0.092720  0.234229  0.244633  0.133959   \n",
       "2       930566127614072  0.076499 -0.013126 -0.133957 -0.238189  0.210767   \n",
       "3       738864343939155  0.095724 -0.046410 -0.321614  0.034098  0.072352   \n",
       "4       512240050437223  0.140352  0.102625 -0.044546  0.140429  0.093042   \n",
       "...                 ...       ...       ...       ...       ...       ...   \n",
       "30427   381289572628044  0.311172 -0.154511 -0.035533 -0.154961  0.025548   \n",
       "30428   517753845398018  0.311172 -0.154511 -0.035533 -0.154961  0.025548   \n",
       "30429  1251766551633027  0.311172 -0.154511 -0.035533 -0.154961  0.025548   \n",
       "30430   205891737021220  0.311172 -0.154511 -0.035533 -0.154961  0.025548   \n",
       "30431   264290437582913  0.311172 -0.154511 -0.035533 -0.154961  0.025548   \n",
       "\n",
       "         txt_a5    txt_a6    txt_a7    txt_a8  ...  txt_a374  txt_a375  \\\n",
       "0     -0.034743 -0.414326  0.169170  0.161987  ... -0.015169  0.210779   \n",
       "1     -0.034743 -0.414326  0.169170  0.161987  ... -0.015169  0.210779   \n",
       "2      0.140465 -0.308346 -0.018898 -0.037311  ...  0.516957 -0.013630   \n",
       "3      0.331428  0.310781 -0.053475  0.043906  ...  0.101721  0.270890   \n",
       "4      0.280933  0.299975  0.018833  0.110578  ...  0.267957  0.123125   \n",
       "...         ...       ...       ...       ...  ...       ...       ...   \n",
       "30427 -0.134334 -0.118996  0.206683 -0.042514  ...  0.223717  0.074807   \n",
       "30428 -0.134334 -0.118996  0.206683 -0.042514  ...  0.223717  0.074807   \n",
       "30429 -0.134334 -0.118996  0.206683 -0.042514  ...  0.223717  0.074807   \n",
       "30430 -0.134334 -0.118996  0.206683 -0.042514  ...  0.223717  0.074807   \n",
       "30431 -0.134334 -0.118996  0.206683 -0.042514  ...  0.223717  0.074807   \n",
       "\n",
       "       txt_a376  txt_a377  txt_a378  txt_a379  txt_a380  txt_a381  txt_a382  \\\n",
       "0     -0.007181 -0.248836 -0.295573  0.118702  0.138403 -0.215594 -0.186626   \n",
       "1     -0.007181 -0.248836 -0.295573  0.118702  0.138403 -0.215594 -0.186626   \n",
       "2     -0.070029  0.037165  0.037470  0.327335 -0.036910  0.039630 -0.259133   \n",
       "3      0.070874 -0.057207 -0.273121 -0.211490  0.111363 -0.013303 -0.070289   \n",
       "4      0.070192 -0.165444 -0.139250 -0.005579  0.000079  0.097999 -0.114313   \n",
       "...         ...       ...       ...       ...       ...       ...       ...   \n",
       "30427  0.432073  0.014829 -0.080632  0.164357 -0.063479  0.202457 -0.081238   \n",
       "30428  0.432073  0.014829 -0.080632  0.164357 -0.063479  0.202457 -0.081238   \n",
       "30429  0.432073  0.014829 -0.080632  0.164357 -0.063479  0.202457 -0.081238   \n",
       "30430  0.432073  0.014829 -0.080632  0.164357 -0.063479  0.202457 -0.081238   \n",
       "30431  0.432073  0.014829 -0.080632  0.164357 -0.063479  0.202457 -0.081238   \n",
       "\n",
       "       txt_a383  \n",
       "0      0.090878  \n",
       "1      0.090878  \n",
       "2      0.124945  \n",
       "3     -0.014206  \n",
       "4      0.166590  \n",
       "...         ...  \n",
       "30427 -0.046617  \n",
       "30428 -0.046617  \n",
       "30429 -0.046617  \n",
       "30430 -0.046617  \n",
       "30431 -0.046617  \n",
       "\n",
       "[30432 rows x 385 columns]"
      ]
     },
     "execution_count": 23,
     "metadata": {},
     "output_type": "execute_result"
    }
   ],
   "source": [
    "text_features"
   ]
  },
  {
   "cell_type": "code",
   "execution_count": 24,
   "metadata": {},
   "outputs": [],
   "source": [
    "text_features.to_csv('Y:/Internship/SoMin/clean/text_features_trial1_0206.csv', index=False)\n",
    "text_features.to_pickle('Y:/Internship/SoMin/clean/text_features_trial1_0206.pkl')"
   ]
  },
  {
   "cell_type": "code",
   "execution_count": null,
   "metadata": {},
   "outputs": [],
   "source": []
  }
 ],
 "metadata": {
  "kernelspec": {
   "display_name": "Python 3",
   "language": "python",
   "name": "python3"
  },
  "language_info": {
   "codemirror_mode": {
    "name": "ipython",
    "version": 3
   },
   "file_extension": ".py",
   "mimetype": "text/x-python",
   "name": "python",
   "nbconvert_exporter": "python",
   "pygments_lexer": "ipython3",
   "version": "3.8.5"
  }
 },
 "nbformat": 4,
 "nbformat_minor": 4
}
